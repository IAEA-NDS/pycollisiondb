{
 "cells": [
  {
   "cell_type": "code",
   "execution_count": 1,
   "id": "4513c043",
   "metadata": {},
   "outputs": [],
   "source": [
    "from pycollisiondb import PyCollision\n",
    "import matplotlib.pyplot as plt"
   ]
  },
  {
   "cell_type": "code",
   "execution_count": 2,
   "id": "b89efcdf",
   "metadata": {},
   "outputs": [],
   "source": [
    "%matplotlib notebook"
   ]
  },
  {
   "cell_type": "code",
   "execution_count": 7,
   "id": "f697f094",
   "metadata": {},
   "outputs": [
    {
     "name": "stderr",
     "output_type": "stream",
     "text": [
      "2022-07-27 16:22:43,484 - pycollisiondb - DEBUG - getting CSRF token ...\n"
     ]
    },
    {
     "ename": "PyCollisionDBConnectionError",
     "evalue": "Could not retrieve data: HTTP 404 (Not Found) returned from https://db-amdis.org/collisiondb/api/",
     "output_type": "error",
     "traceback": [
      "\u001b[0;31m---------------------------------------------------------------------------\u001b[0m",
      "\u001b[0;31mPyCollisionDBConnectionError\u001b[0m              Traceback (most recent call last)",
      "Input \u001b[0;32mIn [7]\u001b[0m, in \u001b[0;36m<cell line: 3>\u001b[0;34m()\u001b[0m\n\u001b[1;32m      1\u001b[0m query \u001b[38;5;241m=\u001b[39m {\u001b[38;5;124m'\u001b[39m\u001b[38;5;124mreactants\u001b[39m\u001b[38;5;124m'\u001b[39m: [\u001b[38;5;124m'\u001b[39m\u001b[38;5;124mW+61 n=25\u001b[39m\u001b[38;5;124m'\u001b[39m],\n\u001b[1;32m      2\u001b[0m          \u001b[38;5;124m'\u001b[39m\u001b[38;5;124mdata_type\u001b[39m\u001b[38;5;124m'\u001b[39m: \u001b[38;5;124m'\u001b[39m\u001b[38;5;124mcross section\u001b[39m\u001b[38;5;124m'\u001b[39m}\n\u001b[0;32m----> 3\u001b[0m pycoll \u001b[38;5;241m=\u001b[39m \u001b[43mPyCollision\u001b[49m\u001b[38;5;241;43m.\u001b[39;49m\u001b[43mget_datasets\u001b[49m\u001b[43m(\u001b[49m\u001b[43mquery\u001b[49m\u001b[38;5;241;43m=\u001b[39;49m\u001b[43mquery\u001b[49m\u001b[43m)\u001b[49m\n\u001b[1;32m      4\u001b[0m \u001b[38;5;28mprint\u001b[39m(pycoll)\n",
      "File \u001b[0;32m~/projects/pycollisiondb/pycollisiondb.py:312\u001b[0m, in \u001b[0;36mPyCollision.get_datasets\u001b[0;34m(cls, archive_uuid, query)\u001b[0m\n\u001b[1;32m    310\u001b[0m \u001b[38;5;28;01massert\u001b[39;00m query \u001b[38;5;129;01mis\u001b[39;00m \u001b[38;5;129;01mnot\u001b[39;00m \u001b[38;5;28;01mNone\u001b[39;00m\n\u001b[1;32m    311\u001b[0m pycoll \u001b[38;5;241m=\u001b[39m \u001b[38;5;28mcls\u001b[39m()\n\u001b[0;32m--> 312\u001b[0m \u001b[43mpycoll\u001b[49m\u001b[38;5;241;43m.\u001b[39;49m\u001b[43mquery\u001b[49m\u001b[43m(\u001b[49m\u001b[38;5;241;43m*\u001b[39;49m\u001b[38;5;241;43m*\u001b[39;49m\u001b[43mquery\u001b[49m\u001b[43m)\u001b[49m\n\u001b[1;32m    313\u001b[0m pycoll\u001b[38;5;241m.\u001b[39mdownload_datasets_archive_from_url()\n\u001b[1;32m    314\u001b[0m pycoll\u001b[38;5;241m.\u001b[39munzip_dataset_archive()\n",
      "File \u001b[0;32m~/projects/pycollisiondb/pycollisiondb.py:136\u001b[0m, in \u001b[0;36mPyCollision.query\u001b[0;34m(self, **kwargs)\u001b[0m\n\u001b[1;32m    134\u001b[0m     \u001b[38;5;28;01mexcept\u001b[39;00m \u001b[38;5;167;01mIndexError\u001b[39;00m:\n\u001b[1;32m    135\u001b[0m         kwargs[\u001b[38;5;124m'\u001b[39m\u001b[38;5;124mproduct2\u001b[39m\u001b[38;5;124m'\u001b[39m] \u001b[38;5;241m=\u001b[39m \u001b[38;5;124m'\u001b[39m\u001b[38;5;124m'\u001b[39m\n\u001b[0;32m--> 136\u001b[0m \u001b[38;5;28;01mreturn\u001b[39;00m \u001b[38;5;28;43mself\u001b[39;49m\u001b[38;5;241;43m.\u001b[39;49m\u001b[43mmake_query\u001b[49m\u001b[43m(\u001b[49m\u001b[43mkwargs\u001b[49m\u001b[43m)\u001b[49m\n",
      "File \u001b[0;32m~/projects/pycollisiondb/pycollisiondb.py:70\u001b[0m, in \u001b[0;36mPyCollision.make_query\u001b[0;34m(self, query_data)\u001b[0m\n\u001b[1;32m     68\u001b[0m r \u001b[38;5;241m=\u001b[39m requests\u001b[38;5;241m.\u001b[39mpost(API_URL, data\u001b[38;5;241m=\u001b[39mdata, headers\u001b[38;5;241m=\u001b[39mheader, cookies\u001b[38;5;241m=\u001b[39mcookies)\n\u001b[1;32m     69\u001b[0m \u001b[38;5;28;01mif\u001b[39;00m r\u001b[38;5;241m.\u001b[39mstatus_code \u001b[38;5;241m!=\u001b[39m \u001b[38;5;241m200\u001b[39m:\n\u001b[0;32m---> 70\u001b[0m     \u001b[38;5;28;01mraise\u001b[39;00m PyCollisionDBConnectionError(\u001b[38;5;124mf\u001b[39m\u001b[38;5;124m'\u001b[39m\u001b[38;5;124mCould not retrieve data: HTTP\u001b[39m\u001b[38;5;124m'\u001b[39m\n\u001b[1;32m     71\u001b[0m                     \u001b[38;5;124mf\u001b[39m\u001b[38;5;124m'\u001b[39m\u001b[38;5;124m \u001b[39m\u001b[38;5;132;01m{\u001b[39;00mr\u001b[38;5;241m.\u001b[39mstatus_code\u001b[38;5;132;01m}\u001b[39;00m\u001b[38;5;124m (\u001b[39m\u001b[38;5;132;01m{\u001b[39;00mr\u001b[38;5;241m.\u001b[39mreason\u001b[38;5;132;01m}\u001b[39;00m\u001b[38;5;124m) returned from \u001b[39m\u001b[38;5;132;01m{\u001b[39;00mAPI_URL\u001b[38;5;132;01m}\u001b[39;00m\u001b[38;5;124m'\u001b[39m)\n\u001b[1;32m     72\u001b[0m json_response \u001b[38;5;241m=\u001b[39m json\u001b[38;5;241m.\u001b[39mloads(r\u001b[38;5;241m.\u001b[39mtext)\n\u001b[1;32m     73\u001b[0m \u001b[38;5;28mself\u001b[39m\u001b[38;5;241m.\u001b[39marchive_url \u001b[38;5;241m=\u001b[39m json_response[\u001b[38;5;124m'\u001b[39m\u001b[38;5;124marchive_url\u001b[39m\u001b[38;5;124m'\u001b[39m]\n",
      "\u001b[0;31mPyCollisionDBConnectionError\u001b[0m: Could not retrieve data: HTTP 404 (Not Found) returned from https://db-amdis.org/collisiondb/api/"
     ]
    }
   ],
   "source": [
    "query = {'reactants': ['W+61 n=25'],\n",
    "         'data_type': 'cross section'}\n",
    "pycoll = PyCollision.get_datasets(query=query)\n",
    "print(pycoll)"
   ]
  },
  {
   "cell_type": "code",
   "execution_count": 5,
   "id": "8121fcc8",
   "metadata": {},
   "outputs": [],
   "source": [
    "pycoll.get_distinct_rps()"
   ]
  },
  {
   "cell_type": "code",
   "execution_count": 8,
   "id": "f3a659f7",
   "metadata": {},
   "outputs": [
    {
     "data": {
      "text/plain": [
       "{H 1s, W+61}"
      ]
     },
     "execution_count": 8,
     "metadata": {},
     "output_type": "execute_result"
    }
   ],
   "source": [
    "pycoll.reactant_rps"
   ]
  },
  {
   "cell_type": "code",
   "execution_count": null,
   "id": "2a45a7f5",
   "metadata": {},
   "outputs": [],
   "source": [
    "{'Be': {('2p2', '1D'), ('2p2', '3p')}}"
   ]
  },
  {
   "cell_type": "code",
   "execution_count": null,
   "id": "586a2c1a",
   "metadata": {},
   "outputs": [],
   "source": [
    "pycoll.reactant_species"
   ]
  },
  {
   "cell_type": "code",
   "execution_count": null,
   "id": "76d9ff70",
   "metadata": {},
   "outputs": [],
   "source": [
    "x = pycoll.reactant_species.pop()\n",
    "x, type(x)"
   ]
  },
  {
   "cell_type": "code",
   "execution_count": null,
   "id": "21a44e25",
   "metadata": {},
   "outputs": [],
   "source": [
    "pycoll.datasets[44784].reaction.reactants[1][1].formula"
   ]
  },
  {
   "cell_type": "code",
   "execution_count": null,
   "id": "6751607e",
   "metadata": {},
   "outputs": [],
   "source": [
    "formulas = set()\n",
    "\n",
    "for ds in pycoll.datasets.values():\n",
    "    reactants = ds.reaction.reactants\n",
    "    reactant_rps = [r[1].formula.formula for r in reactants]\n",
    "    formulas = formulas.union(reactant_rps)\n",
    "formulas"
   ]
  },
  {
   "cell_type": "code",
   "execution_count": null,
   "id": "389a3884",
   "metadata": {},
   "outputs": [],
   "source": [
    "reactant_rps = set()\n",
    "reactant_species, product_species = set(), set()\n",
    "for ds in pycoll.datasets.values():\n",
    "    reactants = ds.reaction.reactants\n",
    "    _reactant_rps = set(r[1] for r in reactants)\n",
    "    reactant_rps |= _reactant_rps\n",
    "    reactant_species |= set(r[1].formula for r in reactants)\n",
    "reactant_rps"
   ]
  },
  {
   "cell_type": "code",
   "execution_count": null,
   "id": "bff12004",
   "metadata": {},
   "outputs": [],
   "source": [
    "formulas = set()\n",
    "for ds in pycoll.datasets.values():\n",
    "    products = ds.reaction.products\n",
    "    product_rps = [r[1].formula.formula for r in products]\n",
    "    formulas = formulas.union(product_rps)\n",
    "formulas"
   ]
  },
  {
   "cell_type": "code",
   "execution_count": null,
   "id": "d1e7b7b8",
   "metadata": {},
   "outputs": [],
   "source": [
    "formulas.union([4,5,3])"
   ]
  },
  {
   "cell_type": "code",
   "execution_count": null,
   "id": "847f7510",
   "metadata": {},
   "outputs": [],
   "source": []
  },
  {
   "cell_type": "code",
   "execution_count": null,
   "id": "3cdb2134",
   "metadata": {},
   "outputs": [],
   "source": [
    "if True:\n",
    "    pycoll = PyCollision()\n",
    "    pycoll.query_database_by_reactants(['H+', 'H'])\n",
    "    pycoll.download_datasets_archive_from_url()\n",
    "    pycoll.unzip_dataset_archive()"
   ]
  },
  {
   "cell_type": "code",
   "execution_count": null,
   "id": "353b299a",
   "metadata": {},
   "outputs": [],
   "source": [
    "manifest = pycoll.get_manifest()\n",
    "print(manifest)"
   ]
  },
  {
   "cell_type": "code",
   "execution_count": null,
   "id": "e1bcfd7f",
   "metadata": {},
   "outputs": [],
   "source": [
    "pks = pycoll.get_dataset_pks_by_reaction()\n",
    "pycoll.read_all_datasets()"
   ]
  },
  {
   "cell_type": "code",
   "execution_count": null,
   "id": "680813dc",
   "metadata": {},
   "outputs": [],
   "source": [
    "ds = {pk: d for pk,d in pycoll.datasets.items() if 'HIN' in d.metadata['process_types']}"
   ]
  },
  {
   "cell_type": "code",
   "execution_count": null,
   "id": "7c109877",
   "metadata": {},
   "outputs": [],
   "source": [
    "ds"
   ]
  },
  {
   "cell_type": "code",
   "execution_count": null,
   "id": "69f6c26d",
   "metadata": {},
   "outputs": [],
   "source": [
    "ds = {pk: d for pk,d in ds.items() if 'H 1s' in d.metadata['reaction']}"
   ]
  },
  {
   "cell_type": "code",
   "execution_count": null,
   "id": "d9f431b7",
   "metadata": {},
   "outputs": [],
   "source": [
    "ds"
   ]
  },
  {
   "cell_type": "code",
   "execution_count": null,
   "id": "5b6d454d",
   "metadata": {},
   "outputs": [],
   "source": [
    "fig, ax = plt.subplots()\n",
    "pycoll.plot_datasets(ax, pks=list(ds.keys()))\n",
    "plt.legend()"
   ]
  },
  {
   "cell_type": "code",
   "execution_count": null,
   "id": "fbf9dd3e",
   "metadata": {},
   "outputs": [],
   "source": []
  }
 ],
 "metadata": {
  "kernelspec": {
   "display_name": "Python 3 (ipykernel)",
   "language": "python",
   "name": "python3"
  },
  "language_info": {
   "codemirror_mode": {
    "name": "ipython",
    "version": 3
   },
   "file_extension": ".py",
   "mimetype": "text/x-python",
   "name": "python",
   "nbconvert_exporter": "python",
   "pygments_lexer": "ipython3",
   "version": "3.9.13"
  }
 },
 "nbformat": 4,
 "nbformat_minor": 5
}
