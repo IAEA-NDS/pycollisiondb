{
 "cells": [
  {
   "cell_type": "code",
   "execution_count": 146,
   "id": "e28be108-9bfb-4781-a4da-424c21659ea8",
   "metadata": {},
   "outputs": [],
   "source": [
    "import os\n",
    "import json\n",
    "import requests\n",
    "import zipfile\n",
    "from collections import defaultdict\n",
    "import numpy as np\n",
    "import matplotlib.pyplot as plt"
   ]
  },
  {
   "cell_type": "code",
   "execution_count": 167,
   "id": "6767dbc1-24b1-40c0-8db5-32d57ec2e87c",
   "metadata": {},
   "outputs": [],
   "source": [
    "url = 'https://db-amdis.org/collisiondb/api/'\n",
    "csrftoken = requests.get(url).cookies['csrftoken']\n",
    "header = {'X-CSRFToken': csrftoken, 'referer': url}\n",
    "cookies = {'csrftoken': csrftoken}"
   ]
  },
  {
   "cell_type": "code",
   "execution_count": 168,
   "id": "1e479641-e659-4c03-af1e-1edbc58fc7b1",
   "metadata": {},
   "outputs": [],
   "source": [
    "pks = range(101886, 101898)\n",
    "pks = ','.join(str(e) for e in pks)\n",
    "data = {'pk': pks}\n",
    "r = requests.post(url, data={'pk': pks}, headers=header, cookies=cookies)"
   ]
  },
  {
   "cell_type": "code",
   "execution_count": 169,
   "id": "65470460-5101-46fa-99a7-3b80d51b68ec",
   "metadata": {},
   "outputs": [
    {
     "name": "stdout",
     "output_type": "stream",
     "text": [
      "200 OK\n"
     ]
    }
   ],
   "source": [
    "print(r.status_code, r.reason)"
   ]
  },
  {
   "cell_type": "code",
   "execution_count": 170,
   "id": "ae89b3a3-48be-4081-8420-789de143b637",
   "metadata": {},
   "outputs": [
    {
     "data": {
      "text/plain": [
       "({'X-CSRFToken': 'AoESBAWonv6HRBcUg5IkxDexrLd5WWPa3u84SjV8MWIh1qRZ9GRbc6lPNLTHNLPK',\n",
       "  'referer': 'https://db-amdis.org/collisiondb/api/'},\n",
       " {'csrftoken': 'AoESBAWonv6HRBcUg5IkxDexrLd5WWPa3u84SjV8MWIh1qRZ9GRbc6lPNLTHNLPK'})"
      ]
     },
     "execution_count": 170,
     "metadata": {},
     "output_type": "execute_result"
    }
   ],
   "source": [
    "header,cookies"
   ]
  },
  {
   "cell_type": "code",
   "execution_count": 171,
   "id": "0cd78f96-3130-45b3-a8f7-76a46b04f423",
   "metadata": {},
   "outputs": [
    {
     "name": "stdout",
     "output_type": "stream",
     "text": [
      "{\"archive_url\": \"https://db-amdis.org/collisiondb/data/results/23ebbdbd-78c3-4846-b400-c150b6774663.zip\"}\n"
     ]
    }
   ],
   "source": [
    "print(r.text)"
   ]
  },
  {
   "cell_type": "code",
   "execution_count": 96,
   "id": "58c938e5-02dc-4ce5-8d20-0be935f3f018",
   "metadata": {},
   "outputs": [],
   "source": [
    "json_response = json.loads(r.text)"
   ]
  },
  {
   "cell_type": "code",
   "execution_count": 97,
   "id": "2086ca21-d445-43a4-90be-231e6acd0fb9",
   "metadata": {},
   "outputs": [
    {
     "data": {
      "text/plain": [
       "{'archive_url': 'https://db-amdis.org/collisiondb/data/results/8f1894ab-ab7f-47b6-8f13-7fc93294b6fb.zip'}"
      ]
     },
     "execution_count": 97,
     "metadata": {},
     "output_type": "execute_result"
    }
   ],
   "source": [
    "json_response"
   ]
  },
  {
   "cell_type": "code",
   "execution_count": 103,
   "id": "d1214df5-b519-42b3-8062-dc82b0a5ef5c",
   "metadata": {},
   "outputs": [],
   "source": [
    "archive_url = json_response['archive_url']\n",
    "r = requests.get(archive_url)"
   ]
  },
  {
   "cell_type": "code",
   "execution_count": 104,
   "id": "32553140-2c27-4e80-8623-4be6a8f38fc8",
   "metadata": {},
   "outputs": [],
   "source": [
    "zip_path = '/Users/christian/temp/test-api.zip'\n",
    "with open(zip_path, 'wb') as fo:\n",
    "    fo.write(r.content)"
   ]
  },
  {
   "cell_type": "code",
   "execution_count": 105,
   "id": "cb4956bd-aa77-435c-9a10-40f2f6ac9cd5",
   "metadata": {},
   "outputs": [
    {
     "name": "stdout",
     "output_type": "stream",
     "text": [
      "/Users/christian/temp/test-api\n"
     ]
    }
   ],
   "source": [
    "extract_dir = os.path.splitext(zip_path)[0]\n",
    "print(extract_dir)\n",
    "with zipfile.ZipFile(zip_path, 'r') as zip_ref:\n",
    "    zip_ref.extractall(extract_dir)"
   ]
  },
  {
   "cell_type": "code",
   "execution_count": 106,
   "id": "b4b8328a-973f-4ae8-bbe8-4b9baabfc99b",
   "metadata": {},
   "outputs": [
    {
     "name": "stdout",
     "output_type": "stream",
     "text": [
      "{'timestamp': '2022-05-25 14:22:05.442392+00:00', 'uuid': '8f1894ab-ab7f-47b6-8f13-7fc93294b6fb', 'GET_string': '', 'ndatasets': 12, 'datasets': {'D101886': 'Ne+10 + H 1s → Ne+10 + H+ + e-', 'D101887': 'Ne+10 + H 1s → Ne+9 + H+', 'D101888': 'Ne+10 + H 1s → Ne+9 n=1 + H+', 'D101889': 'Ne+10 + H 1s → Ne+9 n=2 + H+', 'D101890': 'Ne+10 + H 1s → Ne+9 n=3 + H+', 'D101891': 'Ne+10 + H 1s → Ne+9 n=4 + H+', 'D101892': 'Ne+10 + H 1s → Ne+9 n=5 + H+', 'D101893': 'Ne+10 + H 1s → Ne+9 n=6 + H+', 'D101894': 'Ne+10 + H 1s → Ne+9 n=7 + H+', 'D101895': 'Ne+10 + H 1s → Ne+9 n=8 + H+', 'D101896': 'Ne+10 + H 1s → Ne+9 n=9 + H+', 'D101897': 'Ne+10 + H 1s → Ne+9 n=10 + H+'}}\n"
     ]
    }
   ],
   "source": [
    "def get_manifest(archive_path):\n",
    "    manifest_path = os.path.join(archive_path, 'manifest.json')\n",
    "    with open(manifest_path, 'r') as fi:\n",
    "        manifest = json.loads(fi.read())\n",
    "    return manifest\n",
    "\n",
    "manifest = get_manifest(extract_dir)\n",
    "print(manifest)"
   ]
  },
  {
   "cell_type": "code",
   "execution_count": 107,
   "id": "c8ca1482-9cb8-442e-bff1-521b6a99ce06",
   "metadata": {},
   "outputs": [
    {
     "name": "stdout",
     "output_type": "stream",
     "text": [
      "12\n"
     ]
    }
   ],
   "source": [
    "print(manifest['ndatasets'])"
   ]
  },
  {
   "cell_type": "code",
   "execution_count": 113,
   "id": "96e229b5-1ca7-4a4c-a313-2735213f0d2c",
   "metadata": {},
   "outputs": [
    {
     "data": {
      "text/plain": [
       "defaultdict(list,\n",
       "            {'Ne+10 + H 1s → Ne+10 + H+ + e-': ['/Users/christian/temp/test-api/101886.txt'],\n",
       "             'Ne+10 + H 1s → Ne+9 + H+': ['/Users/christian/temp/test-api/101887.txt'],\n",
       "             'Ne+10 + H 1s → Ne+9 n=1 + H+': ['/Users/christian/temp/test-api/101888.txt'],\n",
       "             'Ne+10 + H 1s → Ne+9 n=2 + H+': ['/Users/christian/temp/test-api/101889.txt'],\n",
       "             'Ne+10 + H 1s → Ne+9 n=3 + H+': ['/Users/christian/temp/test-api/101890.txt'],\n",
       "             'Ne+10 + H 1s → Ne+9 n=4 + H+': ['/Users/christian/temp/test-api/101891.txt'],\n",
       "             'Ne+10 + H 1s → Ne+9 n=5 + H+': ['/Users/christian/temp/test-api/101892.txt'],\n",
       "             'Ne+10 + H 1s → Ne+9 n=6 + H+': ['/Users/christian/temp/test-api/101893.txt'],\n",
       "             'Ne+10 + H 1s → Ne+9 n=7 + H+': ['/Users/christian/temp/test-api/101894.txt'],\n",
       "             'Ne+10 + H 1s → Ne+9 n=8 + H+': ['/Users/christian/temp/test-api/101895.txt'],\n",
       "             'Ne+10 + H 1s → Ne+9 n=9 + H+': ['/Users/christian/temp/test-api/101896.txt'],\n",
       "             'Ne+10 + H 1s → Ne+9 n=10 + H+': ['/Users/christian/temp/test-api/101897.txt']})"
      ]
     },
     "execution_count": 113,
     "metadata": {},
     "output_type": "execute_result"
    }
   ],
   "source": [
    "# Invert the manifest['datasets'] directory to produce a list of dataset files\n",
    "# for each distinct reaction.\n",
    "reactions = defaultdict(list)\n",
    "for qid, reaction_text in manifest['datasets'].items():\n",
    "    reactions[reaction_text].append(os.path.join(extract_dir, qid[1:] + '.txt'))\n",
    "reactions"
   ]
  },
  {
   "cell_type": "code",
   "execution_count": 151,
   "id": "6bfde257-cd61-4f0b-aa1f-8634e7744740",
   "metadata": {},
   "outputs": [],
   "source": [
    "def read_data(dataset_filepath):\n",
    "    with open(dataset_filepath) as fi:\n",
    "        json_metadata = json.loads(fi.readline())\n",
    "        unc_perc = json.loads(json_metadata['json_data']).get('unc_perc')\n",
    "        assert fi.readline()[:4] == '----'\n",
    "        lines = fi.readlines()\n",
    "    n = len(lines)\n",
    "    x, y, unc_lo, unc_hi = np.zeros((4, n))\n",
    "    for i, line in enumerate(lines):\n",
    "        fields = line.split()\n",
    "        x[i] = float(fields[0])\n",
    "        yfields = fields[1].split(':')\n",
    "        y[i] = float(yfields[0])\n",
    "        if len(yfields) > 1:\n",
    "            if len(yfields) == 2:\n",
    "                unc_lo[i] = unc_hi[i] = yfields[1]\n",
    "            else:\n",
    "                unc_lo[i], unc_hi[i] = yfields[1:]\n",
    "        elif unc_perc:\n",
    "            unc_lo[i] = unc_hi[i] = y[i] * unc_perc / 100\n",
    "    \n",
    "    return json_metadata, x, y, unc_lo, unc_hi"
   ]
  },
  {
   "cell_type": "code",
   "execution_count": 152,
   "id": "255d8763-6c4f-4bae-a54d-2830ffe3187c",
   "metadata": {},
   "outputs": [],
   "source": [
    "data = []\n",
    "for reaction_text in reactions:\n",
    "    json_metadata, x, y, unc_lo, unc_hi = read_data(reactions[reaction_text][0])\n",
    "    data.append((x, y))"
   ]
  },
  {
   "cell_type": "code",
   "execution_count": 154,
   "id": "78ac9497-d968-4655-a3bb-0bc0617140c4",
   "metadata": {},
   "outputs": [
    {
     "data": {
      "image/png": "[encoded data removed]",
      "text/plain": [
       "<Figure size 432x288 with 1 Axes>"
      ]
     },
     "metadata": {
      "needs_background": "light"
     },
     "output_type": "display_data"
    }
   ],
   "source": [
    "for x,y in data:\n",
    "    plt.plot(x, y)"
   ]
  },
  {
   "cell_type": "code",
   "execution_count": 148,
   "id": "a3e6b51d-5dec-4a94-94ff-84b30dd1d6ce",
   "metadata": {},
   "outputs": [
    {
     "data": {
      "text/plain": [
       "{'qid': 'D101886',\n",
       " 'reaction': 'Ne+10 + H 1s → Ne+10 + H+ + e-',\n",
       " 'process_types': {'HIN': 'Ionization'},\n",
       " 'data_type': 'cross section',\n",
       " 'refs': ['10.1088/1361-6455/ac6afb'],\n",
       " 'json_comment': '{\"comment\": \"Total ionisation cross section for collisions of fully stripped neon ions with ground-state hydrogen\"}',\n",
       " 'json_data': '{\"method\": \"CCC\", \"columns\": [{\"name\": \"E\", \"units\": \"eV.u-1\"}, {\"name\": \"sigma\", \"units\": \"cm2\"}], \"unc_perc\": 3.0, \"frame\": \"target\"}'}"
      ]
     },
     "execution_count": 148,
     "metadata": {},
     "output_type": "execute_result"
    }
   ],
   "source": [
    "json_metadata"
   ]
  },
  {
   "cell_type": "code",
   "execution_count": null,
   "id": "2a321ff0-6844-4223-a5a7-811f76d943ca",
   "metadata": {},
   "outputs": [],
   "source": []
  }
 ],
 "metadata": {
  "kernelspec": {
   "display_name": "Python 3 (ipykernel)",
   "language": "python",
   "name": "python3"
  },
  "language_info": {
   "codemirror_mode": {
    "name": "ipython",
    "version": 3
   },
   "file_extension": ".py",
   "mimetype": "text/x-python",
   "name": "python",
   "nbconvert_exporter": "python",
   "pygments_lexer": "ipython3",
   "version": "3.9.13"
  }
 },
 "nbformat": 4,
 "nbformat_minor": 5
}
