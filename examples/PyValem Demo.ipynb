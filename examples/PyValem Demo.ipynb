{
 "cells": [
  {
   "cell_type": "code",
   "execution_count": null,
   "id": "3c07ba7f",
   "metadata": {},
   "outputs": [],
   "source": [
    "from IPython.display import HTML, Latex"
   ]
  },
  {
   "cell_type": "markdown",
   "id": "c0c91ae0",
   "metadata": {},
   "source": [
    "### Formula"
   ]
  },
  {
   "cell_type": "code",
   "execution_count": null,
   "id": "8310ee4b",
   "metadata": {},
   "outputs": [],
   "source": [
    "from pyvalem.formula import Formula"
   ]
  },
  {
   "cell_type": "code",
   "execution_count": null,
   "id": "6aa01d82",
   "metadata": {},
   "outputs": [],
   "source": [
    "f = Formula('CH3CH2OH')"
   ]
  },
  {
   "cell_type": "code",
   "execution_count": null,
   "id": "400d8bd5",
   "metadata": {},
   "outputs": [],
   "source": [
    "f.atoms"
   ]
  },
  {
   "cell_type": "code",
   "execution_count": null,
   "id": "b7d77f22",
   "metadata": {},
   "outputs": [],
   "source": [
    "f.stoichiometric_formula(fmt='hill')"
   ]
  },
  {
   "cell_type": "code",
   "execution_count": null,
   "id": "238d9949",
   "metadata": {},
   "outputs": [],
   "source": [
    "f.mass"
   ]
  },
  {
   "cell_type": "code",
   "execution_count": null,
   "id": "aecc6649",
   "metadata": {},
   "outputs": [],
   "source": [
    "f.charge"
   ]
  },
  {
   "cell_type": "markdown",
   "id": "f38a009d",
   "metadata": {},
   "source": [
    "### Stateful Species"
   ]
  },
  {
   "cell_type": "code",
   "execution_count": null,
   "id": "b7fd05fd",
   "metadata": {},
   "outputs": [],
   "source": [
    "from pyvalem.stateful_species import StatefulSpecies"
   ]
  },
  {
   "cell_type": "code",
   "execution_count": null,
   "id": "89d75ffe",
   "metadata": {},
   "outputs": [],
   "source": [
    "ss1 = StatefulSpecies('Ar+ [Ne].3s2.3p5')"
   ]
  },
  {
   "cell_type": "code",
   "execution_count": null,
   "id": "90ad5ea1",
   "metadata": {},
   "outputs": [],
   "source": [
    "ss1"
   ]
  },
  {
   "cell_type": "code",
   "execution_count": null,
   "id": "206b9f58",
   "metadata": {},
   "outputs": [],
   "source": [
    "HTML(ss1.html)"
   ]
  },
  {
   "cell_type": "code",
   "execution_count": null,
   "id": "171ba282",
   "metadata": {},
   "outputs": [],
   "source": [
    "Latex('$$' + ss1.latex + '$$')"
   ]
  },
  {
   "cell_type": "code",
   "execution_count": null,
   "id": "9ce85832",
   "metadata": {},
   "outputs": [],
   "source": [
    "ss2 = StatefulSpecies('C 2P_1/2')"
   ]
  },
  {
   "cell_type": "code",
   "execution_count": null,
   "id": "d279ed37",
   "metadata": {},
   "outputs": [],
   "source": [
    "HTML(ss2.states[0].html)"
   ]
  },
  {
   "cell_type": "code",
   "execution_count": null,
   "id": "e27f2958",
   "metadata": {},
   "outputs": [],
   "source": [
    "ss2.states[0].S, ss2.states[0].L, ss2.states[0].J"
   ]
  },
  {
   "cell_type": "code",
   "execution_count": null,
   "id": "9187a4e3",
   "metadata": {},
   "outputs": [],
   "source": [
    "ss3 = StatefulSpecies('CO+ A(1PI) v=2 J=1')"
   ]
  },
  {
   "cell_type": "code",
   "execution_count": null,
   "id": "155412d0",
   "metadata": {},
   "outputs": [],
   "source": [
    "ss3"
   ]
  },
  {
   "cell_type": "markdown",
   "id": "625daf5f",
   "metadata": {},
   "source": [
    "### Reactions, Collisional Processes"
   ]
  },
  {
   "cell_type": "code",
   "execution_count": null,
   "id": "08344f20",
   "metadata": {},
   "outputs": [],
   "source": [
    "from pyvalem.reaction import Reaction"
   ]
  },
  {
   "cell_type": "code",
   "execution_count": null,
   "id": "41645e32",
   "metadata": {},
   "outputs": [],
   "source": [
    "r1 = Reaction('e- + H2 B(1SIGMA+u) v=0 -> H2+ + 2e-')"
   ]
  },
  {
   "cell_type": "code",
   "execution_count": null,
   "id": "f544a843",
   "metadata": {},
   "outputs": [],
   "source": [
    "r1"
   ]
  },
  {
   "cell_type": "code",
   "execution_count": null,
   "id": "a5cf9967",
   "metadata": {},
   "outputs": [],
   "source": [
    "Latex('$$' + r1.latex + '$$')"
   ]
  },
  {
   "cell_type": "code",
   "execution_count": null,
   "id": "56c68716",
   "metadata": {},
   "outputs": [],
   "source": [
    "r1.reactants"
   ]
  },
  {
   "cell_type": "code",
   "execution_count": null,
   "id": "3f7277e5",
   "metadata": {},
   "outputs": [],
   "source": [
    "r1.products"
   ]
  },
  {
   "cell_type": "code",
   "execution_count": null,
   "id": "195fa480",
   "metadata": {},
   "outputs": [],
   "source": [
    "r2 = Reaction('e- + H2 -> H+ + H + 2e-')"
   ]
  },
  {
   "cell_type": "code",
   "execution_count": null,
   "id": "826419c3",
   "metadata": {},
   "outputs": [],
   "source": []
  },
  {
   "cell_type": "code",
   "execution_count": null,
   "id": "c8b25fee",
   "metadata": {},
   "outputs": [],
   "source": []
  },
  {
   "cell_type": "code",
   "execution_count": null,
   "id": "8cf757c8",
   "metadata": {},
   "outputs": [],
   "source": []
  },
  {
   "cell_type": "code",
   "execution_count": null,
   "id": "3481305f",
   "metadata": {},
   "outputs": [],
   "source": []
  },
  {
   "cell_type": "code",
   "execution_count": null,
   "id": "1a58b653",
   "metadata": {},
   "outputs": [],
   "source": [
    "HTML(s1.html)"
   ]
  },
  {
   "cell_type": "code",
   "execution_count": null,
   "id": "f487df2e",
   "metadata": {},
   "outputs": [],
   "source": [
    "from IPython.display import Latex"
   ]
  },
  {
   "cell_type": "code",
   "execution_count": null,
   "id": "e69fdbaf",
   "metadata": {},
   "outputs": [],
   "source": [
    "Latex('$$' + s1.latex + '$$')"
   ]
  },
  {
   "cell_type": "code",
   "execution_count": null,
   "id": "b85509ce",
   "metadata": {},
   "outputs": [],
   "source": [
    "s2 = StatefulSpecies('Ar+ 2P_3/2 1s2.2s2.2p6.3s2.3p5')\n",
    "s1 == s2"
   ]
  },
  {
   "cell_type": "code",
   "execution_count": null,
   "id": "846c8eeb",
   "metadata": {},
   "outputs": [],
   "source": [
    "s1.formula.mass, StatefulSpecies('(36Ar)').formula.mass"
   ]
  },
  {
   "cell_type": "code",
   "execution_count": null,
   "id": "4ee3b796",
   "metadata": {},
   "outputs": [],
   "source": [
    "s1.states"
   ]
  },
  {
   "cell_type": "code",
   "execution_count": null,
   "id": "ebb2202a",
   "metadata": {},
   "outputs": [],
   "source": [
    "s1.states[1].S, s1.states[1].L, s1.states[1].J"
   ]
  },
  {
   "cell_type": "code",
   "execution_count": null,
   "id": "74129d72",
   "metadata": {},
   "outputs": [],
   "source": [
    "s3 = StatefulSpecies('BeD+ X(1SIGMA+) v=2')"
   ]
  },
  {
   "cell_type": "code",
   "execution_count": null,
   "id": "3885c9ca",
   "metadata": {},
   "outputs": [],
   "source": [
    "HTML(s3.html)"
   ]
  },
  {
   "cell_type": "code",
   "execution_count": null,
   "id": "878144e4",
   "metadata": {},
   "outputs": [],
   "source": [
    "from pyvalem.reaction import Reaction"
   ]
  },
  {
   "cell_type": "code",
   "execution_count": null,
   "id": "a88f767f",
   "metadata": {},
   "outputs": [],
   "source": [
    "r1 = Reaction('e + BeD+ X(1SIGMA+) v=3 -> Be + D')"
   ]
  },
  {
   "cell_type": "code",
   "execution_count": null,
   "id": "f530d997",
   "metadata": {},
   "outputs": [],
   "source": [
    "Latex('$$' + r1.latex + '$$')"
   ]
  },
  {
   "cell_type": "code",
   "execution_count": null,
   "id": "071d27ba",
   "metadata": {},
   "outputs": [],
   "source": [
    "r2 = Reaction('C2H5OH + 3O2 -> 3H2O + 2CO2')"
   ]
  },
  {
   "cell_type": "code",
   "execution_count": null,
   "id": "27e9f37d",
   "metadata": {},
   "outputs": [],
   "source": [
    "HTML(r2.html)"
   ]
  }
 ],
 "metadata": {
  "kernelspec": {
   "display_name": "Python 3 (ipykernel)",
   "language": "python",
   "name": "python3"
  },
  "language_info": {
   "codemirror_mode": {
    "name": "ipython",
    "version": 3
   },
   "file_extension": ".py",
   "mimetype": "text/x-python",
   "name": "python",
   "nbconvert_exporter": "python",
   "pygments_lexer": "ipython3",
   "version": "3.9.13"
  }
 },
 "nbformat": 4,
 "nbformat_minor": 5
}
