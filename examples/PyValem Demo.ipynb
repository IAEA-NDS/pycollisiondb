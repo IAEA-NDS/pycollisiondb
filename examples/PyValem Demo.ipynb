{
 "cells": [
  {
   "cell_type": "code",
   "execution_count": 1,
   "id": "3c07ba7f",
   "metadata": {},
   "outputs": [],
   "source": [
    "from IPython.display import HTML, Latex"
   ]
  },
  {
   "cell_type": "markdown",
   "id": "c0c91ae0",
   "metadata": {},
   "source": [
    "### Formula"
   ]
  },
  {
   "cell_type": "code",
   "execution_count": 2,
   "id": "8310ee4b",
   "metadata": {},
   "outputs": [],
   "source": [
    "from pyvalem.formula import Formula"
   ]
  },
  {
   "cell_type": "code",
   "execution_count": 24,
   "id": "6aa01d82",
   "metadata": {},
   "outputs": [],
   "source": [
    "f = Formula('(227Ac)H+')"
   ]
  },
  {
   "cell_type": "code",
   "execution_count": 25,
   "id": "400d8bd5",
   "metadata": {},
   "outputs": [
    {
     "data": {
      "text/plain": [
       "{227Ac, H}"
      ]
     },
     "execution_count": 25,
     "metadata": {},
     "output_type": "execute_result"
    }
   ],
   "source": [
    "f.atoms"
   ]
  },
  {
   "cell_type": "code",
   "execution_count": 26,
   "id": "b7d77f22",
   "metadata": {},
   "outputs": [
    {
     "data": {
      "text/plain": [
       "'(227Ac)H+'"
      ]
     },
     "execution_count": 26,
     "metadata": {},
     "output_type": "execute_result"
    }
   ],
   "source": [
    "f.stoichiometric_formula(fmt='hill')"
   ]
  },
  {
   "cell_type": "code",
   "execution_count": 27,
   "id": "238d9949",
   "metadata": {},
   "outputs": [
    {
     "data": {
      "text/plain": [
       "228.035750666"
      ]
     },
     "execution_count": 27,
     "metadata": {},
     "output_type": "execute_result"
    }
   ],
   "source": [
    "f.mass"
   ]
  },
  {
   "cell_type": "code",
   "execution_count": 28,
   "id": "aecc6649",
   "metadata": {},
   "outputs": [
    {
     "data": {
      "text/plain": [
       "1"
      ]
     },
     "execution_count": 28,
     "metadata": {},
     "output_type": "execute_result"
    }
   ],
   "source": [
    "f.charge"
   ]
  },
  {
   "cell_type": "markdown",
   "id": "f38a009d",
   "metadata": {},
   "source": [
    "### Stateful Species"
   ]
  },
  {
   "cell_type": "code",
   "execution_count": 19,
   "id": "b7fd05fd",
   "metadata": {},
   "outputs": [],
   "source": [
    "from pyvalem.stateful_species import StatefulSpecies"
   ]
  },
  {
   "cell_type": "code",
   "execution_count": 20,
   "id": "89d75ffe",
   "metadata": {},
   "outputs": [],
   "source": [
    "ss1 = StatefulSpecies('Ar+ [Ne].3s2.3p5 2P_3/2')"
   ]
  },
  {
   "cell_type": "code",
   "execution_count": 21,
   "id": "90ad5ea1",
   "metadata": {},
   "outputs": [
    {
     "data": {
      "text/plain": [
       "Ar+ 1s2.2s2.2p6.3s2.3p5;2P_3/2"
      ]
     },
     "execution_count": 21,
     "metadata": {},
     "output_type": "execute_result"
    }
   ],
   "source": [
    "ss1"
   ]
  },
  {
   "cell_type": "code",
   "execution_count": 22,
   "id": "206b9f58",
   "metadata": {},
   "outputs": [
    {
     "data": {
      "text/html": [
       "Ar<sup>+</sup> [Ne]3s<sup>2</sup>3p<sup>5</sup> <sup>2</sup>P<sub>3/2</sub>"
      ],
      "text/plain": [
       "<IPython.core.display.HTML object>"
      ]
     },
     "execution_count": 22,
     "metadata": {},
     "output_type": "execute_result"
    }
   ],
   "source": [
    "HTML(ss1.html)"
   ]
  },
  {
   "cell_type": "code",
   "execution_count": 23,
   "id": "171ba282",
   "metadata": {},
   "outputs": [
    {
     "data": {
      "text/latex": [
       "$$\\mathrm{Ar}^{+} \\; \\mathrm{[Ne]}3s^{2}3p^{5} \\; {}^{2}\\mathrm{P}_{3/2}$$"
      ],
      "text/plain": [
       "<IPython.core.display.Latex object>"
      ]
     },
     "execution_count": 23,
     "metadata": {},
     "output_type": "execute_result"
    }
   ],
   "source": [
    "Latex('$$' + ss1.latex + '$$')"
   ]
  },
  {
   "cell_type": "code",
   "execution_count": 28,
   "id": "9ce85832",
   "metadata": {},
   "outputs": [],
   "source": [
    "ss2 = StatefulSpecies('C 2P_3/2')"
   ]
  },
  {
   "cell_type": "code",
   "execution_count": 25,
   "id": "d279ed37",
   "metadata": {},
   "outputs": [
    {
     "data": {
      "text/html": [
       "<sup>2</sup>P<sub>1/2</sub>"
      ],
      "text/plain": [
       "<IPython.core.display.HTML object>"
      ]
     },
     "execution_count": 25,
     "metadata": {},
     "output_type": "execute_result"
    }
   ],
   "source": [
    "HTML(ss2.states[0].html)"
   ]
  },
  {
   "cell_type": "code",
   "execution_count": 29,
   "id": "e27f2958",
   "metadata": {},
   "outputs": [
    {
     "data": {
      "text/plain": [
       "(0.5, 1, 1.5)"
      ]
     },
     "execution_count": 29,
     "metadata": {},
     "output_type": "execute_result"
    }
   ],
   "source": [
    "ss2.states[0].S, ss2.states[0].L, ss2.states[0].J"
   ]
  },
  {
   "cell_type": "code",
   "execution_count": 30,
   "id": "9187a4e3",
   "metadata": {},
   "outputs": [],
   "source": [
    "ss3 = StatefulSpecies('CO+ A(1PI) v=2 J=4')"
   ]
  },
  {
   "cell_type": "code",
   "execution_count": 31,
   "id": "155412d0",
   "metadata": {},
   "outputs": [
    {
     "data": {
      "text/plain": [
       "pyvalem.states.molecular_term_symbol.MolecularTermSymbol"
      ]
     },
     "execution_count": 31,
     "metadata": {},
     "output_type": "execute_result"
    }
   ],
   "source": [
    "type(ss3.states[0])"
   ]
  },
  {
   "cell_type": "markdown",
   "id": "625daf5f",
   "metadata": {},
   "source": [
    "### Reactions, Collisional Processes"
   ]
  },
  {
   "cell_type": "code",
   "execution_count": 32,
   "id": "08344f20",
   "metadata": {},
   "outputs": [],
   "source": [
    "from pyvalem.reaction import Reaction"
   ]
  },
  {
   "cell_type": "code",
   "execution_count": 39,
   "id": "41645e32",
   "metadata": {},
   "outputs": [],
   "source": [
    "r1 = Reaction('e- + H2 B(1SIGMA+u) v=0 -> H2+ + 2e-')"
   ]
  },
  {
   "cell_type": "code",
   "execution_count": 38,
   "id": "f544a843",
   "metadata": {},
   "outputs": [
    {
     "data": {
      "text/plain": [
       "e- + H2 B(1Σ+u);v=0 → H2+ + 2e-"
      ]
     },
     "execution_count": 38,
     "metadata": {},
     "output_type": "execute_result"
    }
   ],
   "source": [
    "r1"
   ]
  },
  {
   "cell_type": "code",
   "execution_count": 35,
   "id": "a5cf9967",
   "metadata": {},
   "outputs": [
    {
     "data": {
      "text/latex": [
       "$$\\mathrm{e}^- + \\mathrm{H}_{2} \\; B{}^{1}\\Sigma^+_{u} \\; v=0 \\rightarrow \\mathrm{H}_{2}^{+} + 2\\mathrm{e}^-$$"
      ],
      "text/plain": [
       "<IPython.core.display.Latex object>"
      ]
     },
     "execution_count": 35,
     "metadata": {},
     "output_type": "execute_result"
    }
   ],
   "source": [
    "Latex('$$' + r1.latex + '$$')"
   ]
  },
  {
   "cell_type": "code",
   "execution_count": null,
   "id": "56c68716",
   "metadata": {},
   "outputs": [],
   "source": [
    "r1.reactants"
   ]
  },
  {
   "cell_type": "code",
   "execution_count": null,
   "id": "3f7277e5",
   "metadata": {},
   "outputs": [],
   "source": [
    "r1.products"
   ]
  },
  {
   "cell_type": "code",
   "execution_count": null,
   "id": "195fa480",
   "metadata": {},
   "outputs": [],
   "source": [
    "r2 = Reaction('e- + H2 -> H+ + H + 2e-')\n",
    "HTML(r2.html)"
   ]
  },
  {
   "cell_type": "code",
   "execution_count": null,
   "id": "f3689def-b1d9-4a13-bfae-92fd0433bbb2",
   "metadata": {},
   "outputs": [],
   "source": [
    "f = Formula('CH3(CH2)5CH3')"
   ]
  },
  {
   "cell_type": "code",
   "execution_count": null,
   "id": "2e5620ec-e5c1-49cb-a7a2-b981c1fbbda4",
   "metadata": {},
   "outputs": [],
   "source": [
    "f.stoichiometric_formula('hill')"
   ]
  },
  {
   "cell_type": "code",
   "execution_count": null,
   "id": "1141eec1-0e76-474b-afa8-708a29f6b26f",
   "metadata": {},
   "outputs": [],
   "source": [
    "ss2 = StatefulSpecies('Ar+ *')"
   ]
  },
  {
   "cell_type": "code",
   "execution_count": null,
   "id": "93c7c4eb-02df-49bf-a7ac-4d256e6b8185",
   "metadata": {},
   "outputs": [],
   "source": [
    "type(ss2.states[0])"
   ]
  },
  {
   "cell_type": "code",
   "execution_count": null,
   "id": "70444911-b688-45a4-a2cb-25800de78581",
   "metadata": {},
   "outputs": [],
   "source": [
    "from pyqn.units import Units"
   ]
  },
  {
   "cell_type": "code",
   "execution_count": null,
   "id": "cad08ab9-8725-484c-a18b-1425e499fa45",
   "metadata": {},
   "outputs": [],
   "source": [
    "U = Units('Td')"
   ]
  },
  {
   "cell_type": "code",
   "execution_count": null,
   "id": "4b1050de-a0b6-4b4e-9e63-34cd848da071",
   "metadata": {},
   "outputs": [],
   "source": [
    "Latex('$$' + U.latex + '$$')"
   ]
  },
  {
   "cell_type": "code",
   "execution_count": null,
   "id": "971158fb-959c-4644-a08a-2a3780279723",
   "metadata": {},
   "outputs": [],
   "source": [
    "U.dims"
   ]
  },
  {
   "cell_type": "code",
   "execution_count": null,
   "id": "0d9e2b38-3515-40c2-a967-bd63fe78f5c3",
   "metadata": {},
   "outputs": [],
   "source": [
    "U.conversion('cm2')"
   ]
  },
  {
   "cell_type": "code",
   "execution_count": null,
   "id": "cc4fb244-43a8-4b5c-b9bf-72fbf4c1e07e",
   "metadata": {},
   "outputs": [],
   "source": []
  }
 ],
 "metadata": {
  "kernelspec": {
   "display_name": "Python 3 (ipykernel)",
   "language": "python",
   "name": "python3"
  },
  "language_info": {
   "codemirror_mode": {
    "name": "ipython",
    "version": 3
   },
   "file_extension": ".py",
   "mimetype": "text/x-python",
   "name": "python",
   "nbconvert_exporter": "python",
   "pygments_lexer": "ipython3",
   "version": "3.11.5"
  }
 },
 "nbformat": 4,
 "nbformat_minor": 5
}
