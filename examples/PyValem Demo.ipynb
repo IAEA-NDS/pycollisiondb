{
 "cells": [
  {
   "cell_type": "code",
   "execution_count": 1,
   "id": "3c07ba7f",
   "metadata": {},
   "outputs": [],
   "source": [
    "from IPython.display import HTML, Latex"
   ]
  },
  {
   "cell_type": "markdown",
   "id": "c0c91ae0",
   "metadata": {},
   "source": [
    "### Formula"
   ]
  },
  {
   "cell_type": "code",
   "execution_count": 2,
   "id": "8310ee4b",
   "metadata": {},
   "outputs": [],
   "source": [
    "from pyvalem.formula import Formula"
   ]
  },
  {
   "cell_type": "code",
   "execution_count": 3,
   "id": "6aa01d82",
   "metadata": {},
   "outputs": [],
   "source": [
    "f = Formula('CH3CH2OH')"
   ]
  },
  {
   "cell_type": "code",
   "execution_count": 4,
   "id": "400d8bd5",
   "metadata": {},
   "outputs": [
    {
     "data": {
      "text/plain": [
       "{C, H, O}"
      ]
     },
     "execution_count": 4,
     "metadata": {},
     "output_type": "execute_result"
    }
   ],
   "source": [
    "f.atoms"
   ]
  },
  {
   "cell_type": "code",
   "execution_count": 5,
   "id": "b7d77f22",
   "metadata": {},
   "outputs": [
    {
     "data": {
      "text/plain": [
       "'C2H6O'"
      ]
     },
     "execution_count": 5,
     "metadata": {},
     "output_type": "execute_result"
    }
   ],
   "source": [
    "f.stoichiometric_formula(fmt='hill')"
   ]
  },
  {
   "cell_type": "code",
   "execution_count": 6,
   "id": "238d9949",
   "metadata": {},
   "outputs": [
    {
     "data": {
      "text/plain": [
       "46.069"
      ]
     },
     "execution_count": 6,
     "metadata": {},
     "output_type": "execute_result"
    }
   ],
   "source": [
    "f.mass"
   ]
  },
  {
   "cell_type": "code",
   "execution_count": 7,
   "id": "aecc6649",
   "metadata": {},
   "outputs": [
    {
     "data": {
      "text/plain": [
       "0"
      ]
     },
     "execution_count": 7,
     "metadata": {},
     "output_type": "execute_result"
    }
   ],
   "source": [
    "f.charge"
   ]
  },
  {
   "cell_type": "markdown",
   "id": "f38a009d",
   "metadata": {},
   "source": [
    "### Stateful Species"
   ]
  },
  {
   "cell_type": "code",
   "execution_count": 8,
   "id": "b7fd05fd",
   "metadata": {},
   "outputs": [],
   "source": [
    "from pyvalem.stateful_species import StatefulSpecies"
   ]
  },
  {
   "cell_type": "code",
   "execution_count": 9,
   "id": "89d75ffe",
   "metadata": {},
   "outputs": [],
   "source": [
    "ss1 = StatefulSpecies('Ar+ [Ne].3s2.3p5')"
   ]
  },
  {
   "cell_type": "code",
   "execution_count": 10,
   "id": "90ad5ea1",
   "metadata": {},
   "outputs": [
    {
     "data": {
      "text/plain": [
       "Ar+ 1s2.2s2.2p6.3s2.3p5"
      ]
     },
     "execution_count": 10,
     "metadata": {},
     "output_type": "execute_result"
    }
   ],
   "source": [
    "ss1"
   ]
  },
  {
   "cell_type": "code",
   "execution_count": 11,
   "id": "206b9f58",
   "metadata": {},
   "outputs": [
    {
     "data": {
      "text/html": [
       "Ar<sup>+</sup> [Ne]3s<sup>2</sup>3p<sup>5</sup>"
      ],
      "text/plain": [
       "<IPython.core.display.HTML object>"
      ]
     },
     "execution_count": 11,
     "metadata": {},
     "output_type": "execute_result"
    }
   ],
   "source": [
    "HTML(ss1.html)"
   ]
  },
  {
   "cell_type": "code",
   "execution_count": 12,
   "id": "171ba282",
   "metadata": {},
   "outputs": [
    {
     "data": {
      "text/latex": [
       "$$\\mathrm{Ar}^{+} \\; \\mathrm{[Ne]}3s^{2}3p^{5}$$"
      ],
      "text/plain": [
       "<IPython.core.display.Latex object>"
      ]
     },
     "execution_count": 12,
     "metadata": {},
     "output_type": "execute_result"
    }
   ],
   "source": [
    "Latex('$$' + ss1.latex + '$$')"
   ]
  },
  {
   "cell_type": "code",
   "execution_count": 13,
   "id": "9ce85832",
   "metadata": {},
   "outputs": [],
   "source": [
    "ss2 = StatefulSpecies('C 2P_1/2')"
   ]
  },
  {
   "cell_type": "code",
   "execution_count": 14,
   "id": "d279ed37",
   "metadata": {},
   "outputs": [
    {
     "data": {
      "text/html": [
       "<sup>2</sup>P<sub>1/2</sub>"
      ],
      "text/plain": [
       "<IPython.core.display.HTML object>"
      ]
     },
     "execution_count": 14,
     "metadata": {},
     "output_type": "execute_result"
    }
   ],
   "source": [
    "HTML(ss2.states[0].html)"
   ]
  },
  {
   "cell_type": "code",
   "execution_count": 15,
   "id": "e27f2958",
   "metadata": {},
   "outputs": [
    {
     "data": {
      "text/plain": [
       "(0.5, 1, 0.5)"
      ]
     },
     "execution_count": 15,
     "metadata": {},
     "output_type": "execute_result"
    }
   ],
   "source": [
    "ss2.states[0].S, ss2.states[0].L, ss2.states[0].J"
   ]
  },
  {
   "cell_type": "code",
   "execution_count": 16,
   "id": "9187a4e3",
   "metadata": {},
   "outputs": [],
   "source": [
    "ss3 = StatefulSpecies('CO+ A(1PI) v=2 J=1')"
   ]
  },
  {
   "cell_type": "code",
   "execution_count": 17,
   "id": "155412d0",
   "metadata": {},
   "outputs": [
    {
     "data": {
      "text/plain": [
       "CO+ A(1Π);v=2;J=1"
      ]
     },
     "execution_count": 17,
     "metadata": {},
     "output_type": "execute_result"
    }
   ],
   "source": [
    "ss3"
   ]
  },
  {
   "cell_type": "markdown",
   "id": "625daf5f",
   "metadata": {},
   "source": [
    "### Reactions, Collisional Processes"
   ]
  },
  {
   "cell_type": "code",
   "execution_count": 18,
   "id": "08344f20",
   "metadata": {},
   "outputs": [],
   "source": [
    "from pyvalem.reaction import Reaction"
   ]
  },
  {
   "cell_type": "code",
   "execution_count": 19,
   "id": "41645e32",
   "metadata": {},
   "outputs": [],
   "source": [
    "r1 = Reaction('e- + H2 B(1SIGMA+u) v=0 -> H2+ + 2e-')"
   ]
  },
  {
   "cell_type": "code",
   "execution_count": 20,
   "id": "f544a843",
   "metadata": {},
   "outputs": [
    {
     "data": {
      "text/plain": [
       "e- + H2 B(1Σ+u);v=0 → H2+ + 2e-"
      ]
     },
     "execution_count": 20,
     "metadata": {},
     "output_type": "execute_result"
    }
   ],
   "source": [
    "r1"
   ]
  },
  {
   "cell_type": "code",
   "execution_count": 21,
   "id": "a5cf9967",
   "metadata": {},
   "outputs": [
    {
     "data": {
      "text/latex": [
       "$$\\mathrm{e}^- + \\mathrm{H}_{2} \\; B{}^{1}\\Sigma^+_{u} \\; v=0 \\rightarrow \\mathrm{H}_{2}^{+} + 2\\mathrm{e}^-$$"
      ],
      "text/plain": [
       "<IPython.core.display.Latex object>"
      ]
     },
     "execution_count": 21,
     "metadata": {},
     "output_type": "execute_result"
    }
   ],
   "source": [
    "Latex('$$' + r1.latex + '$$')"
   ]
  },
  {
   "cell_type": "code",
   "execution_count": 22,
   "id": "56c68716",
   "metadata": {},
   "outputs": [
    {
     "data": {
      "text/plain": [
       "[(1, e-), (1, H2 B(1Σ+u);v=0)]"
      ]
     },
     "execution_count": 22,
     "metadata": {},
     "output_type": "execute_result"
    }
   ],
   "source": [
    "r1.reactants"
   ]
  },
  {
   "cell_type": "code",
   "execution_count": 23,
   "id": "3f7277e5",
   "metadata": {},
   "outputs": [
    {
     "data": {
      "text/plain": [
       "[(1, H2+), (2, e-)]"
      ]
     },
     "execution_count": 23,
     "metadata": {},
     "output_type": "execute_result"
    }
   ],
   "source": [
    "r1.products"
   ]
  },
  {
   "cell_type": "code",
   "execution_count": 34,
   "id": "195fa480",
   "metadata": {},
   "outputs": [
    {
     "data": {
      "text/html": [
       "e<sup>-</sup> + H<sub>2</sub> → H<sup>+</sup> + H + 2e<sup>-</sup>"
      ],
      "text/plain": [
       "<IPython.core.display.HTML object>"
      ]
     },
     "execution_count": 34,
     "metadata": {},
     "output_type": "execute_result"
    }
   ],
   "source": [
    "r2 = Reaction('e- + H2 -> H+ + H + 2e-')\n",
    "HTML(r2.html)"
   ]
  }
 ],
 "metadata": {
  "kernelspec": {
   "display_name": "Python 3 (ipykernel)",
   "language": "python",
   "name": "python3"
  },
  "language_info": {
   "codemirror_mode": {
    "name": "ipython",
    "version": 3
   },
   "file_extension": ".py",
   "mimetype": "text/x-python",
   "name": "python",
   "nbconvert_exporter": "python",
   "pygments_lexer": "ipython3",
   "version": "3.11.5"
  }
 },
 "nbformat": 4,
 "nbformat_minor": 5
}
