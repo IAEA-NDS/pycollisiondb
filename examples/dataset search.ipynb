{
 "cells": [
  {
   "cell_type": "code",
   "execution_count": 1,
   "id": "d932cafd",
   "metadata": {},
   "outputs": [],
   "source": [
    "from pycollisiondb.pycollisiondb import PyCollision\n",
    "import matplotlib.pyplot as plt\n",
    "%matplotlib inline"
   ]
  },
  {
   "cell_type": "code",
   "execution_count": 2,
   "id": "1b180902",
   "metadata": {},
   "outputs": [
    {
     "name": "stdout",
     "output_type": "stream",
     "text": [
      "<PyCollision object 26 datasets)>\n"
     ]
    }
   ],
   "source": [
    "# Search for all cross section datasets involving the product W+60 in state n=25.\n",
    "query = {'products': ['W+60 n=25'],\n",
    "         'reactants': ['W+61'],\n",
    "         'data_type': 'cross section'}\n",
    "pycoll = PyCollision.get_datasets(query=query)\n",
    "print(pycoll)"
   ]
  },
  {
   "cell_type": "code",
   "execution_count": 3,
   "id": "946c1a76",
   "metadata": {},
   "outputs": [
    {
     "data": {
      "text/plain": [
       "26"
      ]
     },
     "execution_count": 3,
     "metadata": {},
     "output_type": "execute_result"
    }
   ],
   "source": [
    "len(pycoll.datasets)"
   ]
  },
  {
   "cell_type": "code",
   "execution_count": 4,
   "id": "10904779",
   "metadata": {},
   "outputs": [
    {
     "name": "stdout",
     "output_type": "stream",
     "text": [
      "{77455: D77455: W+61 + H 1s → W+60 n=25;l=0 + H+, 77456: D77456: W+61 + H 1s → W+60 n=25;l=10 + H+, 77457: D77457: W+61 + H 1s → W+60 n=25;l=11 + H+, 77458: D77458: W+61 + H 1s → W+60 n=25;l=12 + H+, 77459: D77459: W+61 + H 1s → W+60 n=25;l=13 + H+, 77460: D77460: W+61 + H 1s → W+60 n=25;l=14 + H+, 77461: D77461: W+61 + H 1s → W+60 n=25;l=15 + H+, 77462: D77462: W+61 + H 1s → W+60 n=25;l=16 + H+, 77463: D77463: W+61 + H 1s → W+60 n=25;l=17 + H+, 77464: D77464: W+61 + H 1s → W+60 n=25;l=18 + H+, 77465: D77465: W+61 + H 1s → W+60 n=25;l=19 + H+, 77466: D77466: W+61 + H 1s → W+60 n=25;l=1 + H+, 77467: D77467: W+61 + H 1s → W+60 n=25;l=20 + H+, 77468: D77468: W+61 + H 1s → W+60 n=25;l=21 + H+, 77469: D77469: W+61 + H 1s → W+60 n=25;l=22 + H+, 77470: D77470: W+61 + H 1s → W+60 n=25;l=23 + H+, 77471: D77471: W+61 + H 1s → W+60 n=25;l=24 + H+, 77472: D77472: W+61 + H 1s → W+60 n=25;l=2 + H+, 77473: D77473: W+61 + H 1s → W+60 n=25;l=3 + H+, 77474: D77474: W+61 + H 1s → W+60 n=25;l=4 + H+, 77475: D77475: W+61 + H 1s → W+60 n=25;l=5 + H+, 77476: D77476: W+61 + H 1s → W+60 n=25;l=6 + H+, 77477: D77477: W+61 + H 1s → W+60 n=25;l=7 + H+, 77478: D77478: W+61 + H 1s → W+60 n=25;l=8 + H+, 77479: D77479: W+61 + H 1s → W+60 n=25;l=9 + H+, 77480: D77480: W+61 + H 1s → W+60 n=25 + H+}\n"
     ]
    }
   ],
   "source": [
    "print(pycoll.datasets)"
   ]
  },
  {
   "cell_type": "code",
   "execution_count": null,
   "id": "ec89d44d",
   "metadata": {},
   "outputs": [],
   "source": [
    "pycoll.datasets[77455]"
   ]
  },
  {
   "cell_type": "code",
   "execution_count": null,
   "id": "fc4ea1dd",
   "metadata": {},
   "outputs": [],
   "source": [
    "# Populate pycoll.reactant_species and pycoll.product_species dictionaries\n",
    "# which map the species to a set of the states these species appear in\n",
    "# in the reactants and products of all the reactions.\n",
    "pycoll.get_distinct_rps()\n",
    "pycoll.reactant_species, pycoll.product_species"
   ]
  },
  {
   "cell_type": "code",
   "execution_count": null,
   "id": "bdd5b7d7",
   "metadata": {},
   "outputs": [],
   "source": [
    "lvalues = [0, 5, 10, 15]\n",
    "reactions = [f'W+61 + H 1s → W+60 n=25;l={ell} + H+' for ell in lvalues]\n",
    "datasets = [ds for ds in pycoll.datasets.values() if ds.metadata['reaction'] in reactions]\n",
    "datasets"
   ]
  },
  {
   "cell_type": "code",
   "execution_count": null,
   "id": "ccaaa648",
   "metadata": {},
   "outputs": [],
   "source": [
    "fig, ax = plt.subplots()\n",
    "for dataset in datasets:\n",
    "    dataset.plot_dataset(ax)\n",
    "plt.legend()"
   ]
  },
  {
   "cell_type": "code",
   "execution_count": null,
   "id": "e672840a-e59d-424c-9539-44378375479b",
   "metadata": {},
   "outputs": [],
   "source": []
  }
 ],
 "metadata": {
  "kernelspec": {
   "display_name": "Python 3 (ipykernel)",
   "language": "python",
   "name": "python3"
  },
  "language_info": {
   "codemirror_mode": {
    "name": "ipython",
    "version": 3
   },
   "file_extension": ".py",
   "mimetype": "text/x-python",
   "name": "python",
   "nbconvert_exporter": "python",
   "pygments_lexer": "ipython3",
   "version": "3.11.9"
  }
 },
 "nbformat": 4,
 "nbformat_minor": 5
}
