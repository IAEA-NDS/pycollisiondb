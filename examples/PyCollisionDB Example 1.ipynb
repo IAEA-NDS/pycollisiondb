{
 "cells": [
  {
   "cell_type": "code",
   "execution_count": 1,
   "id": "6ea82f67-0677-4b75-a9fb-ecceda2d23df",
   "metadata": {},
   "outputs": [],
   "source": [
    "from pycollisiondb.pycollisiondb import PyCollision\n",
    "import matplotlib.pyplot as plt\n",
    "%matplotlib inline"
   ]
  },
  {
   "cell_type": "markdown",
   "id": "ff9054b4-33e9-4634-9579-97f6e251f204",
   "metadata": {},
   "source": [
    "The simplest query is for a CollisionDB dataset from its ID using the query key, `'pk'` (for \"Primary Key\"):"
   ]
  },
  {
   "cell_type": "code",
   "execution_count": 3,
   "id": "22680a3c-4798-400d-9b86-2c50f6fb32a8",
   "metadata": {},
   "outputs": [],
   "source": [
    "query = {'pks': [108456]}\n",
    "pycoll = PyCollision.get_datasets(query=query)"
   ]
  },
  {
   "cell_type": "markdown",
   "id": "87c39ff9-a845-4224-b0cc-c3d82692764b",
   "metadata": {},
   "source": [
    "The `PyCollision` object returned contains a Python dictionary, `datasets`, containing the unique dataset with this ID:"
   ]
  },
  {
   "cell_type": "code",
   "execution_count": 4,
   "id": "9ce79160-a8c5-4e57-b1fe-0c61d861ab8c",
   "metadata": {},
   "outputs": [
    {
     "data": {
      "text/plain": [
       "<PyCollision object at 0x1176bd190 (1 datasets)>"
      ]
     },
     "execution_count": 4,
     "metadata": {},
     "output_type": "execute_result"
    }
   ],
   "source": [
    "pycoll"
   ]
  },
  {
   "cell_type": "code",
   "execution_count": 5,
   "id": "ba68633f-44f5-4714-aeac-95b735b4d8e4",
   "metadata": {},
   "outputs": [
    {
     "data": {
      "text/plain": [
       "{108456: D108456: e- + Ni+7 → Ni+8 + 2e-}"
      ]
     },
     "execution_count": 5,
     "metadata": {},
     "output_type": "execute_result"
    }
   ],
   "source": [
    "pycoll.datasets"
   ]
  },
  {
   "cell_type": "code",
   "execution_count": 6,
   "id": "aea7fcf9-b6a8-4a2c-8c48-04fea7eddfd6",
   "metadata": {},
   "outputs": [
    {
     "data": {
      "text/plain": [
       "D108456: e- + Ni+7 → Ni+8 + 2e-"
      ]
     },
     "execution_count": 6,
     "metadata": {},
     "output_type": "execute_result"
    }
   ],
   "source": [
    "pycoll.datasets[108456]"
   ]
  },
  {
   "cell_type": "markdown",
   "id": "62662967-b9b9-4102-92e2-0cae9df078a4",
   "metadata": {},
   "source": [
    "Querying the database with a list of IDs using the query key, `'pks'` returns all of the data sets with those IDs:"
   ]
  },
  {
   "cell_type": "code",
   "execution_count": 7,
   "id": "a9eee379-f02c-4e7a-8e21-6e38a0976881",
   "metadata": {},
   "outputs": [],
   "source": [
    "query = {'pks': [108465, 108457, 108458]}\n",
    "pycoll = PyCollision.get_datasets(query=query)"
   ]
  },
  {
   "cell_type": "code",
   "execution_count": 8,
   "id": "db57f9b5-6ca9-499b-9577-4e45eb2b51a9",
   "metadata": {},
   "outputs": [
    {
     "name": "stdout",
     "output_type": "stream",
     "text": [
      "<PyCollision object 3 datasets)>\n"
     ]
    }
   ],
   "source": [
    "print(pycoll)"
   ]
  },
  {
   "cell_type": "code",
   "execution_count": 9,
   "id": "b66e3a96-d67a-4a53-93b8-28095733d000",
   "metadata": {},
   "outputs": [
    {
     "data": {
      "text/plain": [
       "{108457: D108457: e- + O+6 1s2;1S → O+6 1s.2p;1P + e-,\n",
       " 108458: D108458: e- + Ni+8 → Ni+9 + 2e-,\n",
       " 108465: D108465: e- + Ni+15 → Ni+16 + 2e-}"
      ]
     },
     "execution_count": 9,
     "metadata": {},
     "output_type": "execute_result"
    }
   ],
   "source": [
    "pycoll.datasets"
   ]
  },
  {
   "cell_type": "code",
   "execution_count": 10,
   "id": "df48b324-6ff1-49bd-aead-3ae41aa37c8f",
   "metadata": {},
   "outputs": [
    {
     "data": {
      "text/plain": [
       "D108458: e- + Ni+8 → Ni+9 + 2e-"
      ]
     },
     "execution_count": 10,
     "metadata": {},
     "output_type": "execute_result"
    }
   ],
   "source": [
    "dataset = pycoll.datasets[108458]\n",
    "dataset"
   ]
  },
  {
   "cell_type": "code",
   "execution_count": 11,
   "id": "29e729bd-a12d-49c7-aef1-58e3683f7ef5",
   "metadata": {},
   "outputs": [
    {
     "data": {
      "text/plain": [
       "pycollisiondb.pycoll_ds.PyCollDataSet"
      ]
     },
     "execution_count": 11,
     "metadata": {},
     "output_type": "execute_result"
    }
   ],
   "source": [
    "type(dataset)"
   ]
  },
  {
   "cell_type": "markdown",
   "id": "950791e0-3e4a-49b1-bc2a-94a048308ca6",
   "metadata": {},
   "source": [
    "`dataset` is an instance of the type `PyCollDataSet`, which contains metadata concerning the dataset:"
   ]
  },
  {
   "cell_type": "code",
   "execution_count": 12,
   "id": "d27d5c62-edb7-47d3-ba55-9c2303c76e46",
   "metadata": {},
   "outputs": [
    {
     "data": {
      "text/plain": [
       "{'qid': 'D108458',\n",
       " 'reaction': 'e- + Ni+8 → Ni+9 + 2e-',\n",
       " 'process_types': {'EIN': 'Ionization'},\n",
       " 'data_type': 'cross section',\n",
       " 'refs': {'B54': {'doi': 'https://doi.org/10.1063/1.555809'}},\n",
       " 'comment': '',\n",
       " 'method': 'semi-empirical',\n",
       " 'columns': [{'name': 'E', 'units': 'eV'}, {'name': 'sigma', 'units': 'cm2'}],\n",
       " 'fit': {'coeffs': {'pcf(1)': 193.0,\n",
       "   'pcf(2)': 2.876,\n",
       "   'pcf(3)': -2.321,\n",
       "   'pcf(4)': 5.91,\n",
       "   'pcf(5)': -10.306,\n",
       "   'pcf(6)': -1.333,\n",
       "   'pcf(7)': 7.738,\n",
       "   'kncf': 7},\n",
       "  'func': 'BELI',\n",
       "  'Elo': 193.0,\n",
       "  'Ehi': 20000.0},\n",
       " 'data_from_fit': True,\n",
       " 'from_aladdin': True,\n",
       " 'metadata_version': 'M1.0',\n",
       " 'time_added': '2023-02-09 16:01:54.138371+00:00'}"
      ]
     },
     "execution_count": 12,
     "metadata": {},
     "output_type": "execute_result"
    }
   ],
   "source": [
    "dataset.metadata"
   ]
  },
  {
   "cell_type": "markdown",
   "id": "46c6c284-cfbb-44b5-82ad-c2e06eb86e33",
   "metadata": {},
   "source": [
    "Here, `qid` is the \"Qualified ID\" of the dataset: the `D` prefix identifies it within the CollisionDB application as a dataset. The metadata also contains representations of the reaction, a collection of process identifiers (here `'EIN'` represents electron-impact ioniziation), and a collection of references identified by DOI. `columns` describes the meaning of the columns of numerical data, and in this case there is information concerning a functional fit to the data."
   ]
  },
  {
   "cell_type": "markdown",
   "id": "da197388-ff4c-447a-8f8a-d820130358b8",
   "metadata": {},
   "source": [
    "The `PyCollDataSet` object also contains a PyValem representation of the collisional process (generically an instance of `pyvalem.reaction.Reaction`), with useful methods for obtaining information about its reactants and products as well as some for outputing it in HTML and LaTeX format:"
   ]
  },
  {
   "cell_type": "code",
   "execution_count": 13,
   "id": "442d2917-92ed-4fc7-aa16-84a3f5b57a85",
   "metadata": {},
   "outputs": [
    {
     "data": {
      "text/plain": [
       "e- + Ni+8 → Ni+9 + 2e-"
      ]
     },
     "execution_count": 13,
     "metadata": {},
     "output_type": "execute_result"
    }
   ],
   "source": [
    "dataset.reaction"
   ]
  },
  {
   "cell_type": "code",
   "execution_count": 14,
   "id": "fedc297c-3c4c-4015-a9ec-34563173aa06",
   "metadata": {},
   "outputs": [
    {
     "data": {
      "text/plain": [
       "'e<sup>-</sup> + Ni<sup>8+</sup> → Ni<sup>9+</sup> + 2e<sup>-</sup>'"
      ]
     },
     "execution_count": 14,
     "metadata": {},
     "output_type": "execute_result"
    }
   ],
   "source": [
    "dataset.reaction.html"
   ]
  },
  {
   "cell_type": "code",
   "execution_count": 15,
   "id": "e507a705-e209-418b-9241-b700c1de764e",
   "metadata": {},
   "outputs": [
    {
     "name": "stdout",
     "output_type": "stream",
     "text": [
      "\\mathrm{e}^- + \\mathrm{Ni}^{8+} \\rightarrow \\mathrm{Ni}^{9+} + 2\\mathrm{e}^-\n"
     ]
    }
   ],
   "source": [
    "print(dataset.reaction.latex)"
   ]
  },
  {
   "cell_type": "code",
   "execution_count": 16,
   "id": "3e4b7762-f5f9-4a4c-84e4-f45f218fcccd",
   "metadata": {},
   "outputs": [
    {
     "name": "stdout",
     "output_type": "stream",
     "text": [
      "Reactants: [(1, e-), (1, Ni+8)]\n",
      "Products: [(1, Ni+9), (2, e-)]\n"
     ]
    }
   ],
   "source": [
    "print('Reactants:', dataset.reaction.reactants)\n",
    "print('Products:', dataset.reaction.products)"
   ]
  },
  {
   "cell_type": "markdown",
   "id": "77e75146-be70-499c-8c65-b040be95c7a0",
   "metadata": {},
   "source": [
    "The `reactants` and `products` are tuples of (stoichiometry, species) pairs, where the species are instances of `pyvalem.stateful_species.StatefulSpecies`:"
   ]
  },
  {
   "cell_type": "code",
   "execution_count": 17,
   "id": "17e86397-47df-4a09-a26b-2b4a4d32d9aa",
   "metadata": {},
   "outputs": [
    {
     "data": {
      "text/plain": [
       "Ni+9"
      ]
     },
     "execution_count": 17,
     "metadata": {},
     "output_type": "execute_result"
    }
   ],
   "source": [
    "dataset.reaction.products[0][1].formula"
   ]
  },
  {
   "cell_type": "code",
   "execution_count": 18,
   "id": "0d920fe1-5733-4c5d-85b3-6f45851ba749",
   "metadata": {},
   "outputs": [
    {
     "data": {
      "text/plain": [
       "9"
      ]
     },
     "execution_count": 18,
     "metadata": {},
     "output_type": "execute_result"
    }
   ],
   "source": [
    "dataset.reaction.products[0][1].formula.charge"
   ]
  },
  {
   "cell_type": "code",
   "execution_count": 19,
   "id": "20e1968f-1666-4c87-9d33-b432e7c7bc9f",
   "metadata": {},
   "outputs": [
    {
     "data": {
      "text/plain": [
       "58.6934"
      ]
     },
     "execution_count": 19,
     "metadata": {},
     "output_type": "execute_result"
    }
   ],
   "source": [
    "dataset.reaction.products[0][1].formula.rmm   # relative molecular/atomic mass"
   ]
  },
  {
   "cell_type": "markdown",
   "id": "f1f0766b-0044-469e-8f0a-d931c6c894db",
   "metadata": {},
   "source": [
    "`StatefulSpecies` may be associated with one or more quantum states:"
   ]
  },
  {
   "cell_type": "code",
   "execution_count": 20,
   "id": "90a28634-c5a8-48b1-be83-1fa4c48b6cdf",
   "metadata": {},
   "outputs": [
    {
     "data": {
      "text/plain": [
       "D108457: e- + O+6 1s2;1S → O+6 1s.2p;1P + e-"
      ]
     },
     "execution_count": 20,
     "metadata": {},
     "output_type": "execute_result"
    }
   ],
   "source": [
    "dataset = pycoll.datasets[108457]\n",
    "dataset"
   ]
  },
  {
   "cell_type": "code",
   "execution_count": 21,
   "id": "dc8efe35-01d7-409c-88cd-0846917123a7",
   "metadata": {},
   "outputs": [
    {
     "data": {
      "text/plain": [
       "(1, O+6 1s2;1S)"
      ]
     },
     "execution_count": 21,
     "metadata": {},
     "output_type": "execute_result"
    }
   ],
   "source": [
    "dataset.reaction.reactants[1]"
   ]
  },
  {
   "cell_type": "code",
   "execution_count": 22,
   "id": "414e681a-eda4-469f-b55b-9a5f723ea9ec",
   "metadata": {},
   "outputs": [
    {
     "data": {
      "text/plain": [
       "(O+6, [1s2, 1S])"
      ]
     },
     "execution_count": 22,
     "metadata": {},
     "output_type": "execute_result"
    }
   ],
   "source": [
    "reactant = dataset.reaction.reactants[1][1]\n",
    "reactant.formula, reactant.states"
   ]
  },
  {
   "cell_type": "markdown",
   "id": "96019f25-d5f9-4ec9-8103-7d77f99138b0",
   "metadata": {},
   "source": [
    "PyValem defines several different types of quantum state, for example:"
   ]
  },
  {
   "cell_type": "code",
   "execution_count": 23,
   "id": "05314ca4-63b9-4a2b-8dcd-db1c4b22d89e",
   "metadata": {},
   "outputs": [
    {
     "data": {
      "text/plain": [
       "(pyvalem.states.atomic_configuration.AtomicConfiguration,\n",
       " pyvalem.states.atomic_term_symbol.AtomicTermSymbol)"
      ]
     },
     "execution_count": 23,
     "metadata": {},
     "output_type": "execute_result"
    }
   ],
   "source": [
    "type(reactant.states[0]), type(reactant.states[1])"
   ]
  },
  {
   "cell_type": "markdown",
   "id": "ef8358eb-7402-48df-8fe4-4b87183719a7",
   "metadata": {},
   "source": [
    "The different states have different methods and attributes relevant to their meaning:"
   ]
  },
  {
   "cell_type": "code",
   "execution_count": 24,
   "id": "224ae1a9-7fe1-4f55-888b-523ddeaa97eb",
   "metadata": {},
   "outputs": [
    {
     "data": {
      "text/plain": [
       "2"
      ]
     },
     "execution_count": 24,
     "metadata": {},
     "output_type": "execute_result"
    }
   ],
   "source": [
    "atom_config = reactant.states[0]\n",
    "atom_config.nelectrons"
   ]
  },
  {
   "cell_type": "code",
   "execution_count": 25,
   "id": "f8257a76-a03a-455b-b569-cbfe83fc9748",
   "metadata": {},
   "outputs": [
    {
     "name": "stdout",
     "output_type": "stream",
     "text": [
      "S = 0.0, L = 0, J = None\n",
      "2S+1 = 1\n"
     ]
    }
   ],
   "source": [
    "atom_term = reactant.states[1]\n",
    "print(f\"S = {atom_term.S}, L = {atom_term.L}, J = {atom_term.J}\")\n",
    "print(f\"2S+1 = {atom_term.Smult}\")"
   ]
  },
  {
   "cell_type": "code",
   "execution_count": 26,
   "id": "e1c048ac-0cd6-4536-8c7a-3597d0e0c095",
   "metadata": {},
   "outputs": [
    {
     "name": "stdout",
     "output_type": "stream",
     "text": [
      "e<sup>-</sup> + O<sup>6+</sup> 1s<sup>2</sup> <sup>1</sup>S → O<sup>6+</sup> 1s2p <sup>1</sup>P + e<sup>-</sup>\n"
     ]
    }
   ],
   "source": [
    "print(dataset.reaction.html)"
   ]
  },
  {
   "cell_type": "markdown",
   "id": "97d2e6ae-aec3-47f3-a811-83a57650b66f",
   "metadata": {},
   "source": [
    "For this type of dataset there are two columns, with meanings and units given by the metadata `columns` entry:"
   ]
  },
  {
   "cell_type": "code",
   "execution_count": 27,
   "id": "7b3fbd87-1351-45e6-b472-a08f232ded84",
   "metadata": {},
   "outputs": [
    {
     "data": {
      "text/plain": [
       "(array([  114.8,   127. ,   140.6,   155.7,   172.3,   190.7,   211.1,\n",
       "          233.7,   258.7,   286.3,   316.9,   350.8,   388.3,   429.8,\n",
       "          475.8,   526.6,   582.9,   645.2,   714.2,   790.6,   875.1,\n",
       "          968.6,  1072. ,  1187. ,  1314. ,  1454. ,  1610. ,  1782. ,\n",
       "         1972. ,  2183. ,  2416. ,  2675. ,  2961. ,  3277. ,  3627. ,\n",
       "         4015. ,  4444. ,  4919. ,  5445. ,  6027. ,  6672. ,  7385. ,\n",
       "         8175. ,  9048. , 10020. , 11090. , 12270. , 13580. , 15040. ,\n",
       "        16640. ]),\n",
       " array([1.405e-12, 2.224e-12, 3.366e-12, 4.892e-12, 6.855e-12, 9.298e-12,\n",
       "        1.225e-11, 1.571e-11, 1.967e-11, 2.411e-11, 2.900e-11, 3.427e-11,\n",
       "        3.987e-11, 4.573e-11, 5.178e-11, 5.796e-11, 6.421e-11, 7.045e-11,\n",
       "        7.662e-11, 8.268e-11, 8.858e-11, 9.427e-11, 9.971e-11, 1.049e-10,\n",
       "        1.098e-10, 1.143e-10, 1.185e-10, 1.224e-10, 1.259e-10, 1.291e-10,\n",
       "        1.319e-10, 1.344e-10, 1.365e-10, 1.383e-10, 1.398e-10, 1.409e-10,\n",
       "        1.417e-10, 1.422e-10, 1.425e-10, 1.425e-10, 1.422e-10, 1.417e-10,\n",
       "        1.409e-10, 1.400e-10, 1.389e-10, 1.376e-10, 1.361e-10, 1.345e-10,\n",
       "        1.327e-10, 1.308e-10]))"
      ]
     },
     "execution_count": 27,
     "metadata": {},
     "output_type": "execute_result"
    }
   ],
   "source": [
    "dataset.x, dataset.y"
   ]
  },
  {
   "cell_type": "code",
   "execution_count": 28,
   "id": "cdac1946-0b58-4cfa-b3b9-8c66bc2c1045",
   "metadata": {},
   "outputs": [
    {
     "data": {
      "text/plain": [
       "[{'name': 'E', 'units': 'eV'}, {'name': 'rate', 'units': 'cm3.s-1'}]"
      ]
     },
     "execution_count": 28,
     "metadata": {},
     "output_type": "execute_result"
    }
   ],
   "source": [
    "dataset.metadata['columns']"
   ]
  },
  {
   "cell_type": "markdown",
   "id": "7de192b6-f4e3-433f-9625-f54b9c83a850",
   "metadata": {},
   "source": [
    "The units can be changed using the syntax of the `pyqn` library, e.g.:"
   ]
  },
  {
   "cell_type": "code",
   "execution_count": 29,
   "id": "6ddb8a64-0f3c-4ca1-9602-aae8954f9d49",
   "metadata": {},
   "outputs": [],
   "source": [
    "dataset.convert_units('E', 'J')\n",
    "dataset.convert_units('rate', 'm3.hr-1')"
   ]
  },
  {
   "cell_type": "code",
   "execution_count": 30,
   "id": "0e19fc99-2828-4d37-8ab0-4311eb7d27eb",
   "metadata": {},
   "outputs": [
    {
     "data": {
      "text/plain": [
       "(array([1.83929861e-17, 2.03476414e-17, 2.25266014e-17, 2.49458879e-17,\n",
       "        2.76055009e-17, 3.05535056e-17, 3.38219456e-17, 3.74428645e-17,\n",
       "        4.14483057e-17, 4.58703128e-17, 5.07729729e-17, 5.62043512e-17,\n",
       "        6.22125130e-17, 6.88615454e-17, 7.62315573e-17, 8.43706138e-17,\n",
       "        9.33908674e-17, 1.03372427e-16, 1.14427445e-16, 1.26668073e-16,\n",
       "        1.40206464e-16, 1.55186815e-16, 1.71753319e-16, 1.90178349e-16,\n",
       "        2.10525990e-16, 2.32956461e-16, 2.57950414e-16, 2.85507850e-16,\n",
       "        3.15949203e-16, 3.49755127e-16, 3.87085839e-16, 4.28582210e-16,\n",
       "        4.74404458e-16, 5.25033235e-16, 5.81109412e-16, 6.43273860e-16,\n",
       "        7.12007231e-16, 7.88110614e-16, 8.72385097e-16, 9.65631769e-16,\n",
       "        1.06897215e-15, 1.18320734e-15, 1.30977928e-15, 1.44964929e-15,\n",
       "        1.60538084e-15, 1.77681372e-15, 1.96587055e-15, 2.17575567e-15,\n",
       "        2.40967344e-15, 2.66602167e-15]),\n",
       " array([5.05800e-15, 8.00640e-15, 1.21176e-14, 1.76112e-14, 2.46780e-14,\n",
       "        3.34728e-14, 4.41000e-14, 5.65560e-14, 7.08120e-14, 8.67960e-14,\n",
       "        1.04400e-13, 1.23372e-13, 1.43532e-13, 1.64628e-13, 1.86408e-13,\n",
       "        2.08656e-13, 2.31156e-13, 2.53620e-13, 2.75832e-13, 2.97648e-13,\n",
       "        3.18888e-13, 3.39372e-13, 3.58956e-13, 3.77640e-13, 3.95280e-13,\n",
       "        4.11480e-13, 4.26600e-13, 4.40640e-13, 4.53240e-13, 4.64760e-13,\n",
       "        4.74840e-13, 4.83840e-13, 4.91400e-13, 4.97880e-13, 5.03280e-13,\n",
       "        5.07240e-13, 5.10120e-13, 5.11920e-13, 5.13000e-13, 5.13000e-13,\n",
       "        5.11920e-13, 5.10120e-13, 5.07240e-13, 5.04000e-13, 5.00040e-13,\n",
       "        4.95360e-13, 4.89960e-13, 4.84200e-13, 4.77720e-13, 4.70880e-13]))"
      ]
     },
     "execution_count": 30,
     "metadata": {},
     "output_type": "execute_result"
    }
   ],
   "source": [
    "dataset.x, dataset.y"
   ]
  },
  {
   "cell_type": "markdown",
   "id": "7e66f200-bab7-4e33-a819-f817949ae6a1",
   "metadata": {},
   "source": [
    "To change the units of all the datasets in a `PyCollision` object, pass a dictionary mapping the column names to the new units. The datasets must all be of the same `data_type`, however (e.g. all cross sections, or all rates):"
   ]
  },
  {
   "cell_type": "code",
   "execution_count": 31,
   "id": "dc6bc1bb-d104-44eb-bda5-d67a591a6e0d",
   "metadata": {},
   "outputs": [],
   "source": [
    "query = {'pks': [108458, 108465]}\n",
    "pycoll = PyCollision.get_datasets(query=query)"
   ]
  },
  {
   "cell_type": "code",
   "execution_count": 32,
   "id": "83da7649-aa75-4de3-bbc1-b25c9dd1802e",
   "metadata": {},
   "outputs": [
    {
     "data": {
      "text/plain": [
       "{108458: D108458: e- + Ni+8 → Ni+9 + 2e-,\n",
       " 108465: D108465: e- + Ni+15 → Ni+16 + 2e-}"
      ]
     },
     "execution_count": 32,
     "metadata": {},
     "output_type": "execute_result"
    }
   ],
   "source": [
    "pycoll.datasets"
   ]
  },
  {
   "cell_type": "markdown",
   "id": "c7960ee3-2f65-4bfa-8976-7ac24037d93c",
   "metadata": {},
   "source": [
    "These datasets are cross sections:"
   ]
  },
  {
   "cell_type": "code",
   "execution_count": 33,
   "id": "8e544307-f26a-48cf-8699-bf734a788310",
   "metadata": {},
   "outputs": [
    {
     "data": {
      "text/plain": [
       "([{'name': 'E', 'units': 'eV'}, {'name': 'sigma', 'units': 'cm2'}],\n",
       " [{'name': 'E', 'units': 'eV'}, {'name': 'sigma', 'units': 'cm2'}])"
      ]
     },
     "execution_count": 33,
     "metadata": {},
     "output_type": "execute_result"
    }
   ],
   "source": [
    "pycoll.datasets[108458].metadata[\"columns\"], pycoll.datasets[108465].metadata[\"columns\"]"
   ]
  },
  {
   "cell_type": "code",
   "execution_count": 34,
   "id": "a968252d-dd49-4055-a8f0-846170b2db5a",
   "metadata": {},
   "outputs": [],
   "source": [
    "# Convert energies to J and cross sections to Mb:\n",
    "pycoll.convert_units({'E': 'J', 'sigma': 'Mb'})"
   ]
  },
  {
   "cell_type": "code",
   "execution_count": 35,
   "id": "b3846ded-8ae8-462d-be28-5281d9a57562",
   "metadata": {},
   "outputs": [
    {
     "data": {
      "text/plain": [
       "([{'name': 'E', 'units': 'J'}, {'name': 'sigma', 'units': 'Mb'}],\n",
       " [{'name': 'E', 'units': 'J'}, {'name': 'sigma', 'units': 'Mb'}])"
      ]
     },
     "execution_count": 35,
     "metadata": {},
     "output_type": "execute_result"
    }
   ],
   "source": [
    "pycoll.datasets[108458].metadata[\"columns\"], pycoll.datasets[108465].metadata[\"columns\"]"
   ]
  },
  {
   "cell_type": "markdown",
   "id": "181b1d2e-1ea6-44df-bad7-ce06f4476bef",
   "metadata": {},
   "source": [
    "Datasets can also be plotted, providing they are of the same type and have the same units. Uncertainties, where available, are indicated."
   ]
  },
  {
   "cell_type": "code",
   "execution_count": 36,
   "id": "d2f68ad0-a183-41f6-a018-baa2bf62e05b",
   "metadata": {},
   "outputs": [
    {
     "data": {
      "image/png": "[encoded data removed]",
      "text/plain": [
       "<Figure size 640x480 with 1 Axes>"
      ]
     },
     "metadata": {},
     "output_type": "display_data"
    }
   ],
   "source": [
    "import matplotlib.pyplot as plt\n",
    "fig, ax = plt.subplots()\n",
    "pycoll.plot_all_datasets(ax)"
   ]
  },
  {
   "cell_type": "code",
   "execution_count": null,
   "id": "adc627de-525b-486b-b9c3-dfd1f6dac19d",
   "metadata": {},
   "outputs": [],
   "source": []
  }
 ],
 "metadata": {
  "kernelspec": {
   "display_name": "Python 3 (ipykernel)",
   "language": "python",
   "name": "python3"
  },
  "language_info": {
   "codemirror_mode": {
    "name": "ipython",
    "version": 3
   },
   "file_extension": ".py",
   "mimetype": "text/x-python",
   "name": "python",
   "nbconvert_exporter": "python",
   "pygments_lexer": "ipython3",
   "version": "3.11.3"
  }
 },
 "nbformat": 4,
 "nbformat_minor": 5
}
