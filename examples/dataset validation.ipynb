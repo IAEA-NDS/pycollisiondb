{
 "cells": [
  {
   "cell_type": "code",
   "execution_count": 2,
   "id": "31930baf",
   "metadata": {},
   "outputs": [],
   "source": [
    "from pycollisiondb.pycollisiondb import PyCollision"
   ]
  },
  {
   "cell_type": "code",
   "execution_count": 26,
   "id": "3e1e02ef",
   "metadata": {},
   "outputs": [
    {
     "name": "stdout",
     "output_type": "stream",
     "text": [
      "<PyCollision object (26 datasets)>\n"
     ]
    }
   ],
   "source": [
    "# Search for all cross section datasets involving the product W+60 in state n=25.\n",
    "query = {'products': ['W+60 n=25'],\n",
    "         'data_type': 'cross section'}\n",
    "pycoll = PyCollision.get_datasets(query=query)\n",
    "print(pycoll)"
   ]
  },
  {
   "cell_type": "code",
   "execution_count": 27,
   "id": "271ed7ff",
   "metadata": {},
   "outputs": [
    {
     "data": {
      "text/plain": [
       "True"
      ]
     },
     "execution_count": 27,
     "metadata": {},
     "output_type": "execute_result"
    }
   ],
   "source": [
    "pycoll.validate()"
   ]
  },
  {
   "cell_type": "code",
   "execution_count": 28,
   "id": "de8cdc16",
   "metadata": {},
   "outputs": [
    {
     "data": {
      "text/plain": [
       "True"
      ]
     },
     "execution_count": 28,
     "metadata": {},
     "output_type": "execute_result"
    }
   ],
   "source": [
    "pycoll.all_valid"
   ]
  },
  {
   "cell_type": "code",
   "execution_count": 29,
   "id": "bd942787",
   "metadata": {},
   "outputs": [
    {
     "name": "stdout",
     "output_type": "stream",
     "text": [
      "77455 []\n",
      "77456 []\n",
      "77457 []\n",
      "77458 []\n",
      "77459 []\n",
      "77460 []\n",
      "77461 []\n",
      "77462 []\n",
      "77463 []\n",
      "77464 []\n",
      "77465 []\n",
      "77466 []\n",
      "77467 []\n",
      "77468 []\n",
      "77469 []\n",
      "77470 []\n",
      "77471 []\n",
      "77472 []\n",
      "77473 []\n",
      "77474 []\n",
      "77475 []\n",
      "77476 []\n",
      "77477 []\n",
      "77478 []\n",
      "77479 []\n",
      "77480 []\n"
     ]
    }
   ],
   "source": [
    "for pk, ds in pycoll.datasets.items():\n",
    "    print(pk, ds.validation_messages)"
   ]
  },
  {
   "cell_type": "code",
   "execution_count": 34,
   "id": "2a024d49",
   "metadata": {},
   "outputs": [
    {
     "data": {
      "text/plain": [
       "False"
      ]
     },
     "execution_count": 34,
     "metadata": {},
     "output_type": "execute_result"
    }
   ],
   "source": [
    "ds = pycoll.datasets[77455]\n",
    "ds.x[1] = ds.x[0]\n",
    "ds.y[3] = -1\n",
    "ds.validate()"
   ]
  },
  {
   "cell_type": "code",
   "execution_count": 35,
   "id": "965c70f9",
   "metadata": {},
   "outputs": [
    {
     "data": {
      "text/plain": [
       "['x-data not monotonic!', 'y-data not non-negative!']"
      ]
     },
     "execution_count": 35,
     "metadata": {},
     "output_type": "execute_result"
    }
   ],
   "source": [
    "ds.validation_messages"
   ]
  },
  {
   "cell_type": "code",
   "execution_count": 3,
   "id": "a9736136",
   "metadata": {},
   "outputs": [
    {
     "name": "stdout",
     "output_type": "stream",
     "text": [
      "<PyCollision object (1 datasets)>\n"
     ]
    }
   ],
   "source": [
    "pycoll = PyCollision.get_datasets(query={'pks': [106574]})\n",
    "print(pycoll)"
   ]
  },
  {
   "cell_type": "code",
   "execution_count": 4,
   "id": "64624e3d",
   "metadata": {},
   "outputs": [
    {
     "data": {
      "text/plain": [
       "D106574: e- + H n=5 → H n=7 + e-"
      ]
     },
     "execution_count": 4,
     "metadata": {},
     "output_type": "execute_result"
    }
   ],
   "source": [
    "ds = pycoll.datasets[106574]\n",
    "ds"
   ]
  },
  {
   "cell_type": "code",
   "execution_count": 8,
   "id": "948f82ef",
   "metadata": {},
   "outputs": [
    {
     "data": {
      "image/png": "[encoded data removed]",
      "text/plain": [
       "<Figure size 432x288 with 1 Axes>"
      ]
     },
     "metadata": {
      "needs_background": "light"
     },
     "output_type": "display_data"
    }
   ],
   "source": [
    "import matplotlib.pyplot as plt\n",
    "fig, ax = plt.subplots()\n",
    "ds.plot_dataset(ax)"
   ]
  },
  {
   "cell_type": "code",
   "execution_count": 9,
   "id": "b8d301ca",
   "metadata": {},
   "outputs": [
    {
     "data": {
      "text/plain": [
       "array([ 0.000e+00,  4.912e-17,  8.675e-17,  1.143e-16,  1.332e-16,\n",
       "        1.444e-16,  1.492e-16,  1.484e-16,  1.428e-16,  1.332e-16,\n",
       "        1.204e-16,  1.049e-16,  8.716e-17,  6.776e-17,  4.707e-17,\n",
       "        2.547e-17,  3.272e-18, -1.924e-17, -4.184e-17, -6.429e-17,\n",
       "       -8.644e-17, -1.081e-16, -1.292e-16, -1.496e-16, -1.692e-16,\n",
       "       -1.879e-16, -2.057e-16, -2.225e-16, -2.384e-16, -2.533e-16,\n",
       "       -2.671e-16, -2.799e-16, -2.916e-16, -3.024e-16, -3.122e-16,\n",
       "       -3.210e-16, -3.288e-16, -3.357e-16, -3.417e-16, -3.468e-16,\n",
       "       -3.511e-16, -3.546e-16, -3.573e-16, -3.592e-16, -3.605e-16,\n",
       "       -3.611e-16, -3.611e-16, -3.605e-16, -3.593e-16, -3.576e-16,\n",
       "       -3.554e-16, -3.528e-16, -3.497e-16, -3.462e-16, -3.423e-16,\n",
       "       -3.381e-16, -3.336e-16, -3.289e-16, -3.238e-16, -3.185e-16,\n",
       "       -3.130e-16, -3.074e-16, -3.015e-16, -2.955e-16, -2.894e-16,\n",
       "       -2.832e-16, -2.769e-16, -2.705e-16, -2.640e-16, -2.576e-16,\n",
       "       -2.510e-16, -2.445e-16, -2.380e-16, -2.314e-16, -2.249e-16,\n",
       "       -2.184e-16, -2.119e-16, -2.055e-16, -1.991e-16, -1.928e-16,\n",
       "       -1.866e-16, -1.804e-16, -1.743e-16, -1.683e-16, -1.624e-16,\n",
       "       -1.566e-16, -1.508e-16, -1.452e-16, -1.396e-16, -1.342e-16,\n",
       "       -1.288e-16, -1.236e-16, -1.185e-16, -1.135e-16, -1.086e-16,\n",
       "       -1.038e-16, -9.909e-17, -9.452e-17, -9.006e-17, -8.572e-17,\n",
       "       -8.148e-17, -7.735e-17, -7.333e-17, -6.943e-17, -6.563e-17,\n",
       "       -6.194e-17, -5.835e-17, -5.487e-17, -5.149e-17, -4.822e-17,\n",
       "       -4.504e-17, -4.197e-17, -3.899e-17, -3.611e-17, -3.332e-17,\n",
       "       -3.063e-17, -2.803e-17, -2.552e-17, -2.309e-17, -2.075e-17,\n",
       "       -1.850e-17, -1.632e-17, -1.423e-17, -1.222e-17, -1.028e-17,\n",
       "       -8.420e-18, -6.631e-18, -4.913e-18, -3.265e-18, -1.684e-18,\n",
       "       -1.699e-19,  1.280e-18,  2.668e-18,  3.995e-18,  5.262e-18,\n",
       "        6.473e-18,  7.627e-18,  8.727e-18,  9.774e-18,  1.077e-17,\n",
       "        1.172e-17,  1.262e-17,  1.347e-17,  1.428e-17,  1.504e-17,\n",
       "        1.576e-17,  1.644e-17,  1.708e-17,  1.769e-17,  1.825e-17,\n",
       "        1.878e-17,  1.928e-17,  1.974e-17,  2.017e-17,  2.057e-17,\n",
       "        2.094e-17,  2.128e-17,  2.160e-17,  2.188e-17,  2.214e-17,\n",
       "        2.238e-17,  2.259e-17,  2.278e-17,  2.295e-17,  2.310e-17,\n",
       "        2.323e-17,  2.333e-17,  2.342e-17,  2.349e-17,  2.355e-17,\n",
       "        2.358e-17,  2.361e-17,  2.361e-17,  2.361e-17,  2.359e-17,\n",
       "        2.355e-17,  2.351e-17,  2.345e-17,  2.338e-17,  2.330e-17,\n",
       "        2.321e-17,  2.312e-17,  2.301e-17,  2.289e-17,  2.277e-17,\n",
       "        2.264e-17,  2.250e-17,  2.235e-17,  2.220e-17,  2.204e-17,\n",
       "        2.187e-17,  2.170e-17,  2.153e-17,  2.135e-17,  2.117e-17,\n",
       "        2.098e-17,  2.079e-17,  2.059e-17,  2.040e-17,  2.020e-17,\n",
       "        1.999e-17,  1.979e-17,  1.958e-17,  1.937e-17,  1.916e-17,\n",
       "        1.894e-17,  1.873e-17,  1.852e-17,  1.830e-17,  1.808e-17,\n",
       "        1.786e-17,  1.765e-17,  1.743e-17,  1.721e-17,  1.699e-17,\n",
       "        1.677e-17,  1.656e-17,  1.634e-17,  1.612e-17,  1.591e-17,\n",
       "        1.569e-17,  1.548e-17,  1.526e-17,  1.505e-17,  1.484e-17,\n",
       "        1.463e-17,  1.442e-17,  1.421e-17,  1.400e-17,  1.380e-17,\n",
       "        1.359e-17,  1.339e-17,  1.319e-17,  1.299e-17,  1.279e-17,\n",
       "        1.260e-17,  1.240e-17,  1.221e-17,  1.202e-17,  1.183e-17,\n",
       "        1.165e-17,  1.146e-17,  1.128e-17,  1.110e-17,  1.092e-17,\n",
       "        1.074e-17,  1.057e-17,  1.039e-17,  1.022e-17,  1.005e-17,\n",
       "        9.886e-18,  9.721e-18,  9.558e-18,  9.397e-18,  9.238e-18,\n",
       "        9.082e-18,  8.927e-18,  8.774e-18,  8.623e-18,  8.474e-18,\n",
       "        8.328e-18,  8.183e-18,  8.040e-18,  7.899e-18,  7.760e-18,\n",
       "        7.624e-18,  7.489e-18,  7.356e-18,  7.225e-18,  7.096e-18,\n",
       "        6.969e-18,  6.843e-18,  6.720e-18,  6.598e-18,  6.479e-18,\n",
       "        6.361e-18,  6.245e-18,  6.131e-18,  6.018e-18,  5.908e-18,\n",
       "        5.799e-18,  5.691e-18,  5.586e-18,  5.482e-18,  5.380e-18,\n",
       "        5.279e-18,  5.181e-18,  5.083e-18,  4.988e-18,  4.894e-18,\n",
       "        4.801e-18,  4.710e-18,  4.621e-18,  4.533e-18,  4.447e-18,\n",
       "        4.362e-18,  4.278e-18,  4.196e-18,  4.115e-18,  4.036e-18,\n",
       "        3.958e-18,  3.882e-18,  3.806e-18,  3.733e-18,  3.660e-18,\n",
       "        3.589e-18,  3.519e-18,  3.450e-18,  3.382e-18,  3.316e-18,\n",
       "        3.251e-18,  3.187e-18,  3.124e-18,  3.062e-18,  3.002e-18,\n",
       "        2.942e-18,  2.884e-18,  2.826e-18,  2.770e-18,  2.715e-18,\n",
       "        2.661e-18,  2.608e-18,  2.555e-18,  2.504e-18,  2.454e-18,\n",
       "        2.404e-18,  2.356e-18,  2.308e-18,  2.262e-18,  2.216e-18,\n",
       "        2.171e-18,  2.127e-18,  2.084e-18,  2.042e-18,  2.000e-18,\n",
       "        1.959e-18,  1.919e-18,  1.880e-18,  1.842e-18,  1.804e-18,\n",
       "        1.767e-18,  1.731e-18,  1.695e-18,  1.660e-18,  1.626e-18,\n",
       "        1.592e-18,  1.560e-18,  1.527e-18,  1.496e-18,  1.465e-18,\n",
       "        1.434e-18,  1.404e-18,  1.375e-18,  1.347e-18,  1.319e-18,\n",
       "        1.291e-18,  1.264e-18,  1.238e-18,  1.212e-18,  1.187e-18,\n",
       "        1.162e-18,  1.137e-18,  1.113e-18,  1.090e-18,  1.067e-18,\n",
       "        1.045e-18,  1.023e-18,  1.001e-18,  9.799e-19,  9.592e-19,\n",
       "        9.390e-19,  9.191e-19,  8.996e-19,  8.805e-19,  8.619e-19,\n",
       "        8.436e-19,  8.256e-19,  8.081e-19,  7.909e-19,  7.740e-19,\n",
       "        7.575e-19,  7.414e-19,  7.255e-19,  7.100e-19,  6.948e-19,\n",
       "        6.800e-19,  6.654e-19,  6.511e-19,  6.372e-19,  6.235e-19,\n",
       "        6.101e-19,  5.970e-19,  5.841e-19,  5.715e-19,  5.592e-19,\n",
       "        5.472e-19,  5.354e-19,  5.238e-19,  5.125e-19,  5.014e-19,\n",
       "        4.906e-19,  4.799e-19,  4.695e-19,  4.594e-19,  4.494e-19,\n",
       "        4.396e-19,  4.301e-19,  4.207e-19,  4.116e-19,  4.026e-19,\n",
       "        3.939e-19,  3.853e-19,  3.769e-19,  3.687e-19,  3.606e-19,\n",
       "        3.527e-19,  3.450e-19,  3.375e-19,  3.301e-19,  3.229e-19,\n",
       "        3.158e-19,  3.089e-19,  3.021e-19,  2.955e-19,  2.890e-19,\n",
       "        2.826e-19,  2.764e-19,  2.704e-19,  2.644e-19,  2.586e-19,\n",
       "        2.529e-19,  2.473e-19,  2.419e-19,  2.365e-19,  2.313e-19,\n",
       "        2.262e-19,  2.212e-19,  2.163e-19,  2.115e-19,  2.069e-19,\n",
       "        2.023e-19,  1.978e-19,  1.934e-19,  1.891e-19,  1.849e-19,\n",
       "        1.808e-19,  1.768e-19,  1.729e-19,  1.690e-19,  1.653e-19,\n",
       "        1.616e-19,  1.580e-19,  1.545e-19,  1.511e-19,  1.477e-19,\n",
       "        1.444e-19,  1.412e-19,  1.380e-19,  1.349e-19,  1.319e-19,\n",
       "        1.290e-19,  1.261e-19,  1.233e-19,  1.205e-19,  1.178e-19,\n",
       "        1.152e-19,  1.126e-19,  1.101e-19,  1.076e-19,  1.052e-19,\n",
       "        1.028e-19,  1.005e-19,  9.828e-20,  9.607e-20,  9.391e-20,\n",
       "        9.180e-20,  8.973e-20,  8.771e-20,  8.574e-20,  8.381e-20,\n",
       "        8.192e-20,  8.008e-20,  7.827e-20,  7.651e-20,  7.478e-20,\n",
       "        7.310e-20,  7.144e-20,  6.983e-20,  6.825e-20,  6.671e-20,\n",
       "        6.520e-20,  6.373e-20,  6.229e-20,  6.088e-20,  5.950e-20,\n",
       "        5.815e-20,  5.684e-20,  5.555e-20,  5.429e-20,  5.306e-20])"
      ]
     },
     "execution_count": 9,
     "metadata": {},
     "output_type": "execute_result"
    }
   ],
   "source": [
    "ds.y"
   ]
  },
  {
   "cell_type": "code",
   "execution_count": 11,
   "id": "4da4ff77",
   "metadata": {},
   "outputs": [
    {
     "data": {
      "text/plain": [
       "173.97960958975608"
      ]
     },
     "execution_count": 11,
     "metadata": {},
     "output_type": "execute_result"
    }
   ],
   "source": [
    "15 * 1000 / 8.6217e-5 / 1.e6"
   ]
  }
 ],
 "metadata": {
  "kernelspec": {
   "display_name": "Python 3 (ipykernel)",
   "language": "python",
   "name": "python3"
  },
  "language_info": {
   "codemirror_mode": {
    "name": "ipython",
    "version": 3
   },
   "file_extension": ".py",
   "mimetype": "text/x-python",
   "name": "python",
   "nbconvert_exporter": "python",
   "pygments_lexer": "ipython3",
   "version": "3.9.13"
  }
 },
 "nbformat": 4,
 "nbformat_minor": 5
}
