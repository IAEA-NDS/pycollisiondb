{
 "cells": [
  {
   "cell_type": "code",
   "execution_count": 25,
   "id": "31930baf",
   "metadata": {},
   "outputs": [],
   "source": [
    "from pycollisiondb.pycollisiondb import PyCollision"
   ]
  },
  {
   "cell_type": "code",
   "execution_count": 26,
   "id": "3e1e02ef",
   "metadata": {},
   "outputs": [
    {
     "name": "stdout",
     "output_type": "stream",
     "text": [
      "<PyCollision object (26 datasets)>\n"
     ]
    }
   ],
   "source": [
    "# Search for all cross section datasets involving the product W+60 in state n=25.\n",
    "query = {'products': ['W+60 n=25'],\n",
    "         'data_type': 'cross section'}\n",
    "pycoll = PyCollision.get_datasets(query=query)\n",
    "print(pycoll)"
   ]
  },
  {
   "cell_type": "code",
   "execution_count": 27,
   "id": "271ed7ff",
   "metadata": {},
   "outputs": [
    {
     "data": {
      "text/plain": [
       "True"
      ]
     },
     "execution_count": 27,
     "metadata": {},
     "output_type": "execute_result"
    }
   ],
   "source": [
    "pycoll.validate()"
   ]
  },
  {
   "cell_type": "code",
   "execution_count": 28,
   "id": "de8cdc16",
   "metadata": {},
   "outputs": [
    {
     "data": {
      "text/plain": [
       "True"
      ]
     },
     "execution_count": 28,
     "metadata": {},
     "output_type": "execute_result"
    }
   ],
   "source": [
    "pycoll.all_valid"
   ]
  },
  {
   "cell_type": "code",
   "execution_count": 29,
   "id": "bd942787",
   "metadata": {},
   "outputs": [
    {
     "name": "stdout",
     "output_type": "stream",
     "text": [
      "77455 []\n",
      "77456 []\n",
      "77457 []\n",
      "77458 []\n",
      "77459 []\n",
      "77460 []\n",
      "77461 []\n",
      "77462 []\n",
      "77463 []\n",
      "77464 []\n",
      "77465 []\n",
      "77466 []\n",
      "77467 []\n",
      "77468 []\n",
      "77469 []\n",
      "77470 []\n",
      "77471 []\n",
      "77472 []\n",
      "77473 []\n",
      "77474 []\n",
      "77475 []\n",
      "77476 []\n",
      "77477 []\n",
      "77478 []\n",
      "77479 []\n",
      "77480 []\n"
     ]
    }
   ],
   "source": [
    "for pk, ds in pycoll.datasets.items():\n",
    "    print(pk, ds.validation_messages)"
   ]
  },
  {
   "cell_type": "code",
   "execution_count": 34,
   "id": "2a024d49",
   "metadata": {},
   "outputs": [
    {
     "data": {
      "text/plain": [
       "False"
      ]
     },
     "execution_count": 34,
     "metadata": {},
     "output_type": "execute_result"
    }
   ],
   "source": [
    "ds = pycoll.datasets[77455]\n",
    "ds.x[1] = ds.x[0]\n",
    "ds.y[3] = -1\n",
    "ds.validate()"
   ]
  },
  {
   "cell_type": "code",
   "execution_count": 35,
   "id": "965c70f9",
   "metadata": {},
   "outputs": [
    {
     "data": {
      "text/plain": [
       "['x-data not monotonic!', 'y-data not non-negative!']"
      ]
     },
     "execution_count": 35,
     "metadata": {},
     "output_type": "execute_result"
    }
   ],
   "source": [
    "ds.validation_messages"
   ]
  }
 ],
 "metadata": {
  "kernelspec": {
   "display_name": "Python 3 (ipykernel)",
   "language": "python",
   "name": "python3"
  },
  "language_info": {
   "codemirror_mode": {
    "name": "ipython",
    "version": 3
   },
   "file_extension": ".py",
   "mimetype": "text/x-python",
   "name": "python",
   "nbconvert_exporter": "python",
   "pygments_lexer": "ipython3",
   "version": "3.9.13"
  }
 },
 "nbformat": 4,
 "nbformat_minor": 5
}
