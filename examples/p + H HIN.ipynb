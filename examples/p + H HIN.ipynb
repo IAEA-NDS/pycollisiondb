{
 "cells": [
  {
   "cell_type": "code",
   "execution_count": 1,
   "id": "23cb25c2",
   "metadata": {},
   "outputs": [],
   "source": [
    "from pycollisiondb.pycollisiondb import PyCollision\n",
    "import matplotlib.pyplot as plt\n",
    "%matplotlib notebook"
   ]
  },
  {
   "cell_type": "code",
   "execution_count": 2,
   "id": "08e44764",
   "metadata": {},
   "outputs": [],
   "source": [
    "# The official ALADDIN2 server.\n",
    "#DB_URL = 'https://db-amdis.org/aladdin2/'\n",
    "# The official CollisionDB server.\n",
    "DB_URL = 'https://db-amdis.org/collisiondb/'\n",
    "# Local URL for whatever service is listening on port 8282.\n",
    "#DB_URL = 'http://127.0.0.1:8282/'"
   ]
  },
  {
   "cell_type": "code",
   "execution_count": 3,
   "id": "9c7724cb",
   "metadata": {},
   "outputs": [],
   "source": [
    "# Fetch datasets from the server over the API.\n",
    "# Proton-impact ionization of H.\n",
    "query = {'reactants': ['H+', 'H 1s'],\n",
    "         'process_types': ['HIN'],\n",
    "         'data_type': 'cross section'}\n",
    "pycoll = PyCollision.get_datasets(query=query, DB_URL=DB_URL)\n",
    "\n",
    "# If you're accessing a locally-cached archive instead, do it here.\n",
    "#DATA_DIR = '/Users/christian/www/colldb_results'\n",
    "#archive_uuid = '026a7abd-5ed7-4e30-827d-f3f606f3fa98'\n",
    "#pycoll = PyCollision.get_datasets(archive_uuid=archive_uuid, DATA_DIR=DATA_DIR)"
   ]
  },
  {
   "cell_type": "code",
   "execution_count": 4,
   "id": "a69fa772",
   "metadata": {},
   "outputs": [
    {
     "data": {
      "text/plain": [
       "4"
      ]
     },
     "execution_count": 4,
     "metadata": {},
     "output_type": "execute_result"
    }
   ],
   "source": [
    "# How many did we get?\n",
    "len(pycoll.datasets)"
   ]
  },
  {
   "cell_type": "code",
   "execution_count": 5,
   "id": "b511f923",
   "metadata": {},
   "outputs": [
    {
     "data": {
      "text/plain": [
       "{102737: D102737: H+ + H 1s → H+ + H+ + e-,\n",
       " 107356: D107356: H+ + H 1s → H+ + H+ + e-,\n",
       " 103103: D103103: H 1s + H+ → H+ + H+ + e-,\n",
       " 103104: D103104: H 1s + H+ → H+ + H+ + e-}"
      ]
     },
     "execution_count": 5,
     "metadata": {},
     "output_type": "execute_result"
    }
   ],
   "source": [
    "# What are they (a dict, keyed by pk ID).\n",
    "pycoll.datasets"
   ]
  },
  {
   "cell_type": "code",
   "execution_count": 6,
   "id": "78b2475b",
   "metadata": {},
   "outputs": [
    {
     "name": "stdout",
     "output_type": "stream",
     "text": [
      "H+ + H 1s → H+ + H+ + e-\n",
      "========================================================================\n",
      "   qid: D102737\n",
      "   process_types: ['HIN']\n",
      "   data_type: cross section\n",
      "   refs: {'B32': {'doi': '10.1016/j.adt.2019.05.002'}}\n",
      "   qid: D107356\n",
      "   process_types: ['HIN']\n",
      "   data_type: cross section\n",
      "   refs: {'B45': {'doi': '10.1140/epjd/e2019-100380-x'}}\n",
      "\n",
      "H 1s + H+ → H+ + H+ + e-\n",
      "========================================================================\n",
      "   qid: D103103\n",
      "   process_types: ['HIN']\n",
      "   data_type: cross section\n",
      "   refs: {'B33': {'doi': '10.1088/0022-3700/14/14/009'}}\n",
      "   qid: D103104\n",
      "   process_types: ['HIN']\n",
      "   data_type: cross section\n",
      "   refs: {'B34': {'doi': '10.1088/0022-3700/20/11/016'}}\n",
      "\n"
     ]
    }
   ],
   "source": [
    "pycoll.summarize_datasets()"
   ]
  },
  {
   "cell_type": "code",
   "execution_count": 7,
   "id": "1146bf0a",
   "metadata": {},
   "outputs": [
    {
     "data": {
      "text/plain": [
       "(array([  1000.,   4000.,   9000.,  16000.,  25000.,  36000.,  49000.,\n",
       "         64000.,  81000., 100000.]),\n",
       " array([5.471e-19, 1.960e-18, 1.235e-17, 4.050e-17, 9.192e-17, 1.405e-16,\n",
       "        1.628e-16, 1.605e-16, 1.450e-16, 1.248e-16]))"
      ]
     },
     "execution_count": 7,
     "metadata": {},
     "output_type": "execute_result"
    }
   ],
   "source": [
    "pycoll.datasets[102737].x, pycoll.datasets[102737].y"
   ]
  },
  {
   "cell_type": "code",
   "execution_count": 8,
   "id": "8369961c",
   "metadata": {},
   "outputs": [
    {
     "name": "stdout",
     "output_type": "stream",
     "text": [
      "1000.0 5.471e-19\n",
      "4000.0 1.96e-18\n",
      "9000.0 1.235e-17\n",
      "16000.0 4.05e-17\n",
      "25000.0 9.192e-17\n",
      "36000.0 1.405e-16\n",
      "49000.0 1.628e-16\n",
      "64000.0 1.605e-16\n",
      "81000.0 1.45e-16\n",
      "100000.0 1.248e-16\n"
     ]
    }
   ],
   "source": [
    "pycoll.datasets[102737].print_values()"
   ]
  },
  {
   "cell_type": "code",
   "execution_count": 9,
   "id": "af5c3409",
   "metadata": {},
   "outputs": [
    {
     "data": {
      "text/plain": [
       "{'B32': {'authors': 'H. Agueny, J. Petter Hansen, A. Dubois, A. Makhoute, A. Taoutioui, N. Sisourat',\n",
       "  'title': 'Electron capture, ionization and excitation cross sections for keV collisions between fully stripped ions and atomic hydrogen in ground and excited states',\n",
       "  'journal': 'Atomic Data and Nuclear Data Tables',\n",
       "  'volume': '129-130',\n",
       "  'page_start': '101281',\n",
       "  'page_end': '',\n",
       "  'article_number': '101281',\n",
       "  'year': 2019,\n",
       "  'note': '',\n",
       "  'doi': '10.1016/j.adt.2019.05.002',\n",
       "  'bibcode': '2019ADNDT.12901281A',\n",
       "  'url': 'https://dx.doi.org/10.1016/j.adt.2019.05.002'},\n",
       " 'B33': {'authors': 'M. B Shah, H. B Gilbody',\n",
       "  'title': 'Experimental study of the ionisation of atomic hydrogen by fast H<sup>+</sup>and He<sup>2+</sup>ions',\n",
       "  'journal': 'Journal of Physics B: Atomic and Molecular Physics',\n",
       "  'volume': '14',\n",
       "  'page_start': '2361',\n",
       "  'page_end': '2377',\n",
       "  'article_number': '',\n",
       "  'year': 1981,\n",
       "  'note': '',\n",
       "  'doi': '10.1088/0022-3700/14/14/009',\n",
       "  'bibcode': '1981JPhB...14.2361S',\n",
       "  'url': 'https://dx.doi.org/10.1088/0022-3700/14/14/009'},\n",
       " 'B34': {'authors': 'M. B Shah, D. S Elliott, H. B Gilbody',\n",
       "  'title': 'Ionisation of atomic hydrogen by 9-75 keV protons',\n",
       "  'journal': 'Journal of Physics B: Atomic and Molecular Physics',\n",
       "  'volume': '20',\n",
       "  'page_start': '2481',\n",
       "  'page_end': '2485',\n",
       "  'article_number': '',\n",
       "  'year': 1987,\n",
       "  'note': '',\n",
       "  'doi': '10.1088/0022-3700/20/11/016',\n",
       "  'bibcode': '1987JPhB...20.2481S',\n",
       "  'url': 'https://dx.doi.org/10.1088/0022-3700/20/11/016'},\n",
       " 'B45': {'authors': 'A. C. K. Leung, T. Kirchner',\n",
       "  'title': 'Proton impact on ground and excited states of atomic hydrogen',\n",
       "  'journal': 'The European Physical Journal D',\n",
       "  'volume': '73',\n",
       "  'page_start': '',\n",
       "  'page_end': '',\n",
       "  'article_number': '246',\n",
       "  'year': 2019,\n",
       "  'note': '',\n",
       "  'doi': '10.1140/epjd/e2019-100380-x',\n",
       "  'bibcode': '2019EPJD...73..246L',\n",
       "  'url': 'https://dx.doi.org/10.1140/epjd/e2019-100380-x'}}"
      ]
     },
     "execution_count": 9,
     "metadata": {},
     "output_type": "execute_result"
    }
   ],
   "source": [
    "# Resolve the references from the datasets into proper, citeable format.\n",
    "# NB this accesses the pyref API.\n",
    "pycoll.resolve_refs()\n",
    "# e.g.\n",
    "pycoll.refs"
   ]
  },
  {
   "cell_type": "code",
   "execution_count": 10,
   "id": "4aa8d17f",
   "metadata": {},
   "outputs": [
    {
     "name": "stdout",
     "output_type": "stream",
     "text": [
      "H+ + H 1s → H+ + H+ + e-\n",
      "========================================================================\n",
      "   qid: D102737\n",
      "   process_types: ['HIN']\n",
      "   data_type: cross section\n",
      "   refs: {'B32': {'doi': '10.1016/j.adt.2019.05.002'}}\n",
      "   qid: D107356\n",
      "   process_types: ['HIN']\n",
      "   data_type: cross section\n",
      "   refs: {'B45': {'doi': '10.1140/epjd/e2019-100380-x'}}\n",
      "\n",
      "H 1s + H+ → H+ + H+ + e-\n",
      "========================================================================\n",
      "   qid: D103103\n",
      "   process_types: ['HIN']\n",
      "   data_type: cross section\n",
      "   refs: {'B33': {'doi': '10.1088/0022-3700/14/14/009'}}\n",
      "   qid: D103104\n",
      "   process_types: ['HIN']\n",
      "   data_type: cross section\n",
      "   refs: {'B34': {'doi': '10.1088/0022-3700/20/11/016'}}\n",
      "\n"
     ]
    }
   ],
   "source": [
    "pycoll.summarize_datasets()"
   ]
  },
  {
   "cell_type": "code",
   "execution_count": null,
   "id": "cece7aec",
   "metadata": {},
   "outputs": [],
   "source": [
    "for ds in pycoll.datasets.values():\n",
    "    print(ds.metadata['refs'])"
   ]
  },
  {
   "cell_type": "code",
   "execution_count": null,
   "id": "58395558",
   "metadata": {},
   "outputs": [],
   "source": [
    "pycoll.convert_units({'E': 'keV.u-1'})"
   ]
  },
  {
   "cell_type": "code",
   "execution_count": null,
   "id": "36055bba",
   "metadata": {},
   "outputs": [],
   "source": [
    "for ds in pycoll.datasets.values():\n",
    "    ds.y *= 1.e16\n",
    "    ds.unc_lo *= 1.e16\n",
    "    ds.unc_hi *= 1.e16"
   ]
  },
  {
   "cell_type": "code",
   "execution_count": null,
   "id": "1d78c99c",
   "metadata": {},
   "outputs": [],
   "source": [
    "# Make a plot, indicating how the data should be labelled.\n",
    "fig, ax = plt.subplots()\n",
    "#pycoll.plot_all_datasets(ax, label=('reaction', 'qid', 'refs', 'process_types'))\n",
    "pycoll.plot_all_datasets(ax, label=('qid', 'refs', 'process_types'))\n",
    "plt.legend()"
   ]
  },
  {
   "cell_type": "code",
   "execution_count": null,
   "id": "e87407d0",
   "metadata": {},
   "outputs": [],
   "source": [
    "%matplotlib inline\n",
    "plt.rcParams.update({\n",
    "    \"text.usetex\": True,\n",
    "    \"font.size\": 12})"
   ]
  },
  {
   "cell_type": "code",
   "execution_count": null,
   "id": "baa1e055",
   "metadata": {},
   "outputs": [],
   "source": [
    "def get_label(ds):\n",
    "    return ds.metadata['json_data']['method']\n",
    "    #return list(ds.metadata['refs'].keys())[0]\n",
    "\n",
    "\n",
    "fig, ax = plt.subplots(figsize=(6,4), dpi=300)\n",
    "markers = {102737: 'o', 107356: 'v', 103103: 's', 103104: 'o'}\n",
    "ls = {102737: '-', 107356: '-', 103103: 'none', 103104: 'none'}\n",
    "colours = {102737: 'C0', 107356: 'C1', 103103: 'k', 103104: 'tab:red'}\n",
    "mfc = {102737: 'none', 107356: 'C1', 103103: 'k', 103104: 'tab:red'}\n",
    "label = {102737: 'CC, ref [Nicolas]', 107356: 'TC-BGM [Tom]',\n",
    "          103103: 'Experiment [Shah 1981]', 103104: 'Experiment [Shah 1987]'}\n",
    "for pk, ds in pycoll.datasets.items():\n",
    "    yerr = (ds.unc_lo, ds.unc_hi)\n",
    "    capsize = 4 if any(ds.unc_lo) else 0\n",
    "    #ax.plot(ds.x, ds.y, marker=markers[pk], ls=ls[pk], label=get_label(ds))\n",
    "    ax.errorbar(ds.x, ds.y, yerr, ls=ls[pk], marker=markers[pk], capsize=capsize,\n",
    "                c=colours[pk], label=label[pk], ms=4, mfc=mfc[pk])\n",
    "#pycoll.plot_all_datasets(ax, label=('method',))\n",
    "ax.set_xlim(0, 150)\n",
    "ax.set_ylim(0, 2)\n",
    "ax.set_xlabel(r'$E\\;/\\mathrm{keV\\,u^{-1}}$')\n",
    "ax.set_ylabel(r'$\\sigma\\;/ 10^{-16} \\;\\mathrm{cm^{2}}$')\n",
    "\n",
    "#handles, labels = ax.get_legend_handles_labels()\n",
    "#for h in handles:\n",
    "#    h.lines[0].set_linestyle(\"\")\n",
    "    #if h.lines[2]:\n",
    "    #    h.lines[2][0].set_linestyle(\"\")\n",
    "#ax.legend(handles, labels)\n",
    "plt.legend()\n",
    "plt.tight_layout()\n",
    "plt.savefig('p+H_HIN.pdf', dpi=300)"
   ]
  },
  {
   "cell_type": "code",
   "execution_count": null,
   "id": "d097c204",
   "metadata": {},
   "outputs": [],
   "source": [
    "plt.rcParams.keys()"
   ]
  },
  {
   "cell_type": "code",
   "execution_count": null,
   "id": "9734f174",
   "metadata": {},
   "outputs": [],
   "source": [
    "h.lines[2]"
   ]
  },
  {
   "cell_type": "code",
   "execution_count": null,
   "id": "fcdc0be4",
   "metadata": {},
   "outputs": [],
   "source": [
    "ds.metadata"
   ]
  },
  {
   "cell_type": "code",
   "execution_count": null,
   "id": "75e2f142",
   "metadata": {},
   "outputs": [],
   "source": [
    "line = ax.lines[1]\n",
    "line.get_label()"
   ]
  },
  {
   "cell_type": "code",
   "execution_count": null,
   "id": "92dc780e",
   "metadata": {},
   "outputs": [],
   "source": [
    "pycoll.datasets[103104].unc_lo"
   ]
  },
  {
   "cell_type": "code",
   "execution_count": null,
   "id": "07d93b07",
   "metadata": {},
   "outputs": [],
   "source": []
  }
 ],
 "metadata": {
  "kernelspec": {
   "display_name": "Python 3 (ipykernel)",
   "language": "python",
   "name": "python3"
  },
  "language_info": {
   "codemirror_mode": {
    "name": "ipython",
    "version": 3
   },
   "file_extension": ".py",
   "mimetype": "text/x-python",
   "name": "python",
   "nbconvert_exporter": "python",
   "pygments_lexer": "ipython3",
   "version": "3.9.13"
  }
 },
 "nbformat": 4,
 "nbformat_minor": 5
}
