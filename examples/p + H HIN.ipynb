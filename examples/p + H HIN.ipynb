{
 "cells": [
  {
   "cell_type": "code",
   "execution_count": null,
   "id": "23cb25c2",
   "metadata": {},
   "outputs": [],
   "source": [
    "from pycollisiondb.pycollisiondb import PyCollision\n",
    "import matplotlib.pyplot as plt\n",
    "%matplotlib notebook"
   ]
  },
  {
   "cell_type": "code",
   "execution_count": null,
   "id": "08e44764",
   "metadata": {},
   "outputs": [],
   "source": [
    "# The official ALADDIN2 server.\n",
    "#DB_URL = 'https://db-amdis.org/aladdin2/'\n",
    "# The official CollisionDB server.\n",
    "DB_URL = 'https://db-amdis.org/collisiondb/'\n",
    "# Local URL for whatever service is listening on port 8282.\n",
    "#DB_URL = 'http://127.0.0.1:8282/'"
   ]
  },
  {
   "cell_type": "code",
   "execution_count": null,
   "id": "9c7724cb",
   "metadata": {},
   "outputs": [],
   "source": [
    "# Fetch datasets from the server over the API.\n",
    "# Proton-impact ionization of H.\n",
    "query = {'reactants': ['H+', 'H'],\n",
    "         'process_types': ['HIN'],\n",
    "         'data_type': 'cross section'}\n",
    "pycoll = PyCollision.get_datasets(query=query, DB_URL=DB_URL)\n",
    "\n",
    "# If you're accessing a locally-cached archive instead, do it here.\n",
    "#DATA_DIR = '/Users/christian/www/colldb_results'\n",
    "#archive_uuid = '026a7abd-5ed7-4e30-827d-f3f606f3fa98'\n",
    "#pycoll = PyCollision.get_datasets(archive_uuid=archive_uuid, DATA_DIR=DATA_DIR)"
   ]
  },
  {
   "cell_type": "code",
   "execution_count": null,
   "id": "a69fa772",
   "metadata": {},
   "outputs": [],
   "source": [
    "# How many did we get?\n",
    "len(pycoll.datasets)"
   ]
  },
  {
   "cell_type": "code",
   "execution_count": null,
   "id": "b511f923",
   "metadata": {},
   "outputs": [],
   "source": [
    "# What are they (a dict, keyed by pk ID).\n",
    "pycoll.datasets"
   ]
  },
  {
   "cell_type": "code",
   "execution_count": null,
   "id": "af5c3409",
   "metadata": {},
   "outputs": [],
   "source": [
    "# Resolve the references from the datasets into proper, citeable format.\n",
    "# NB this accesses the pyref API.\n",
    "pycoll.resolve_refs()\n",
    "# e.g.\n",
    "pycoll.refs['B33']"
   ]
  },
  {
   "cell_type": "code",
   "execution_count": null,
   "id": "1d78c99c",
   "metadata": {},
   "outputs": [],
   "source": [
    "# Make a plot, indicating how the data should be labelled.\n",
    "fig, ax = plt.subplots()\n",
    "pycoll.plot_all_datasets(ax, label=('reaction', 'qid', 'refs', 'process_types'))\n",
    "plt.legend()"
   ]
  }
 ],
 "metadata": {
  "kernelspec": {
   "display_name": "Python 3 (ipykernel)",
   "language": "python",
   "name": "python3"
  },
  "language_info": {
   "codemirror_mode": {
    "name": "ipython",
    "version": 3
   },
   "file_extension": ".py",
   "mimetype": "text/x-python",
   "name": "python",
   "nbconvert_exporter": "python",
   "pygments_lexer": "ipython3",
   "version": "3.9.13"
  }
 },
 "nbformat": 4,
 "nbformat_minor": 5
}
